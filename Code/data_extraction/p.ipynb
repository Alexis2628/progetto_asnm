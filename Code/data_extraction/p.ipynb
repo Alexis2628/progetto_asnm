{
 "cells": [
  {
   "cell_type": "code",
   "execution_count": 35,
   "metadata": {},
   "outputs": [],
   "source": [
    "import logging\n",
    "import pandas as pd\n",
    "import os\n",
    "import numpy as np"
   ]
  },
  {
   "cell_type": "code",
   "execution_count": 36,
   "metadata": {},
   "outputs": [],
   "source": [
    "from retrieve_post_by_userid import RetrievePostByUserId\n",
    "t = RetrievePostByUserId(sessionid=\"\")"
   ]
  },
  {
   "cell_type": "code",
   "execution_count": 37,
   "metadata": {},
   "outputs": [],
   "source": [
    "def get_post_data(data):\n",
    "    post_list = []\n",
    "    if data is not None and data[\"data\"] is not None and data[\"data\"][\"mediaData\"] is not None and data[\"data\"][\"mediaData\"][\"edges\"] is not None:\n",
    "        edges = data[\"data\"][\"mediaData\"][\"edges\"]\n",
    "        try:\n",
    "            for edge in edges:\n",
    "                thread_items = edge[\"node\"][\"thread_items\"]\n",
    "                for thread_item in thread_items:\n",
    "                    post = thread_item[\"post\"]\n",
    "                    if post[\"caption\"] is None or post[\"user\"] is None or post[\"text_post_app_info\"] is None:\n",
    "                        continue\n",
    "                    current_post = {\n",
    "                        \"id\": post.get(\"id\",\"\"),\n",
    "                        \"post_pk\": post.get(\"pk\",\"\"),\n",
    "                        \"caption_text\": post.get(\"caption\",{}).get(\"text\",\"\"),\n",
    "                        \"like_count\": post.get(\"like_count\",\"\"),\n",
    "                        \"taken_at\": post.get(\"taken_at\",\"\"),\n",
    "                        \"username\": post.get(\"user\",{}).get(\"username\",\"\"),\n",
    "                        \"user_pk\": post.get(\"user\",{}).get(\"pk\",\"\"),\n",
    "                        \"quote_count\": post[\"text_post_app_info\"].get(\"quote_count\",0),\n",
    "                        \"repost_count\": post[\"text_post_app_info\"].get(\"repost_count\",0),\n",
    "                        \"reshare_count\": post[\"text_post_app_info\"].get(\"reshare_count\",0),\n",
    "                    }\n",
    "                    post_list.append(current_post)\n",
    "            return post_list\n",
    "        except Exception as e:\n",
    "            raise RuntimeError(f\"Errore durante l'elaborazione dei dati dei follower: {e}\")\n",
    "    return []\n",
    "        \n",
    "\n",
    "def get_all_post(userid: str):\n",
    "    results = []\n",
    "    try:\n",
    "        response = t.retrieve_thread_by_userid(userid)\n",
    "        d_out = get_post_data(response)\n",
    "        results.extend(d_out)\n",
    "    except Exception as e:\n",
    "        print(response)\n",
    "        raise RuntimeError(f\"Errore generale nel recupero dei follower per l'utente {userid}: {e}\")\n",
    "    return results\n"
   ]
  },
  {
   "cell_type": "code",
   "execution_count": 38,
   "metadata": {},
   "outputs": [
    {
     "data": {
      "text/plain": [
       "349"
      ]
     },
     "execution_count": 38,
     "metadata": {},
     "output_type": "execute_result"
    }
   ],
   "source": [
    "df = pd.read_csv(\"data_parte1.csv\")\n",
    "df['user_pk'] = df['user_pk'].astype(str)\n",
    "unique_user_pk = df['user_pk'].unique()\n",
    "len(unique_user_pk)"
   ]
  },
  {
   "cell_type": "code",
   "execution_count": 39,
   "metadata": {},
   "outputs": [
    {
     "data": {
      "text/plain": [
       "132987"
      ]
     },
     "execution_count": 39,
     "metadata": {},
     "output_type": "execute_result"
    }
   ],
   "source": [
    "df2 = pd.read_csv(\"followers_data.csv\")\n",
    "df2['follower_pk'] = df2['follower_pk'].astype(str)\n",
    "unique_user_pk2 = df2['follower_pk'].unique()\n",
    "len(unique_user_pk2)"
   ]
  },
  {
   "cell_type": "code",
   "execution_count": 40,
   "metadata": {},
   "outputs": [
    {
     "data": {
      "text/plain": [
       "133336"
      ]
     },
     "execution_count": 40,
     "metadata": {},
     "output_type": "execute_result"
    }
   ],
   "source": [
    "unique_user = np.concatenate([unique_user_pk, unique_user_pk2])\n",
    "len(unique_user)"
   ]
  },
  {
   "cell_type": "code",
   "execution_count": 41,
   "metadata": {},
   "outputs": [],
   "source": [
    "def load_processed_users(file_path):\n",
    "    if os.path.exists(file_path):\n",
    "        logging.info(f\"Loading processed users from {file_path}\")\n",
    "        df = pd.read_csv(file_path)\n",
    "        df['user_pk'] = df['user_pk'].astype(str)\n",
    "        return set(df['user_pk'].tolist())\n",
    "    return set()\n",
    "\n",
    "def save_to_csv(df, file_path):\n",
    "    try:\n",
    "        if os.path.exists(file_path):\n",
    "            df.to_csv(file_path, mode='a', header=False, index=False)\n",
    "        else:\n",
    "            df.to_csv(file_path, index=False)\n",
    "        logging.info(f\"Saved {len(df)} records to {file_path}\")\n",
    "    except Exception as e:\n",
    "        logging.error(f\"Error saving data to {file_path}: {e}\")\n",
    "        \n",
    "csv_file = \"post_data.csv\"\n",
    "processed_users = load_processed_users(csv_file)"
   ]
  },
  {
   "cell_type": "code",
   "execution_count": null,
   "metadata": {},
   "outputs": [
    {
     "name": "stdout",
     "output_type": "stream",
     "text": [
      "Processati 53 utenti su 125602\n",
      "Processati 80 utenti su 125602\n",
      "Processati 101 utenti su 125602\n",
      "Processati 122 utenti su 125602\n",
      "Processati 143 utenti su 125602\n",
      "Processati 164 utenti su 125602\n",
      "Processati 185 utenti su 125602\n",
      "Processati 209 utenti su 125602\n",
      "Processati 230 utenti su 125602\n",
      "Processati 253 utenti su 125602\n",
      "Processati 275 utenti su 125602\n",
      "Processati 296 utenti su 125602\n",
      "Processati 322 utenti su 125602\n",
      "Processati 345 utenti su 125602\n",
      "Processati 373 utenti su 125602\n",
      "Processati 396 utenti su 125602\n",
      "Processati 418 utenti su 125602\n",
      "Processati 443 utenti su 125602\n",
      "Processati 464 utenti su 125602\n",
      "Processati 496 utenti su 125602\n",
      "Processati 517 utenti su 125602\n",
      "Processati 538 utenti su 125602\n",
      "Processati 561 utenti su 125602\n",
      "Processati 593 utenti su 125602\n",
      "Processati 614 utenti su 125602\n",
      "Processati 636 utenti su 125602\n",
      "Processati 658 utenti su 125602\n",
      "Processati 684 utenti su 125602\n",
      "Processati 713 utenti su 125602\n",
      "Processati 736 utenti su 125602\n",
      "Processati 759 utenti su 125602\n",
      "Processati 783 utenti su 125602\n",
      "Processati 804 utenti su 125602\n",
      "Processati 826 utenti su 125602\n",
      "Processati 851 utenti su 125602\n",
      "Processati 874 utenti su 125602\n",
      "Processati 900 utenti su 125602\n",
      "Processati 921 utenti su 125602\n",
      "Processati 943 utenti su 125602\n",
      "Processati 964 utenti su 125602\n",
      "Processati 985 utenti su 125602\n",
      "Processati 1009 utenti su 125602\n",
      "Processati 1034 utenti su 125602\n",
      "Processati 1057 utenti su 125602\n",
      "Processati 1079 utenti su 125602\n",
      "Processati 1103 utenti su 125602\n",
      "Processati 1126 utenti su 125602\n",
      "Processati 1147 utenti su 125602\n",
      "Processati 1168 utenti su 125602\n",
      "Processati 1189 utenti su 125602\n",
      "Processati 1212 utenti su 125602\n",
      "Processati 1234 utenti su 125602\n",
      "Processati 1256 utenti su 125602\n",
      "Processati 1277 utenti su 125602\n",
      "Processati 1303 utenti su 125602\n",
      "Processati 1326 utenti su 125602\n",
      "Processati 1350 utenti su 125602\n",
      "Processati 1375 utenti su 125602\n",
      "Processati 1396 utenti su 125602\n",
      "Processati 1425 utenti su 125602\n",
      "Processati 1447 utenti su 125602\n",
      "Processati 1469 utenti su 125602\n",
      "Processati 1490 utenti su 125602\n",
      "Processati 1511 utenti su 125602\n",
      "Processati 1535 utenti su 125602\n",
      "Processati 1556 utenti su 125602\n",
      "Processati 1578 utenti su 125602\n",
      "Processati 1599 utenti su 125602\n",
      "Processati 1621 utenti su 125602\n",
      "Processati 1643 utenti su 125602\n",
      "Processati 1666 utenti su 125602\n",
      "Processati 1689 utenti su 125602\n",
      "Processati 1710 utenti su 125602\n",
      "Processati 1732 utenti su 125602\n",
      "Processati 1756 utenti su 125602\n",
      "Processati 1777 utenti su 125602\n",
      "Processati 1801 utenti su 125602\n",
      "Processati 1823 utenti su 125602\n",
      "Processati 1845 utenti su 125602\n",
      "Processati 1868 utenti su 125602\n",
      "Processati 1897 utenti su 125602\n",
      "Processati 1918 utenti su 125602\n",
      "Processati 1939 utenti su 125602\n",
      "Processati 1970 utenti su 125602\n",
      "Processati 1994 utenti su 125602\n",
      "Processati 2016 utenti su 125602\n",
      "Processati 2039 utenti su 125602\n"
     ]
    },
    {
     "name": "stderr",
     "output_type": "stream",
     "text": [
      "Exception in thread Thread-2272 (process_user):\n",
      "Traceback (most recent call last):\n",
      "  File \"c:\\Progetti\\progetto_asnm\\.venv\\Lib\\site-packages\\requests\\models.py\", line 974, in json\n",
      "    return complexjson.loads(self.text, **kwargs)\n",
      "           ^^^^^^^^^^^^^^^^^^^^^^^^^^^^^^^^^^^^^^\n",
      "  File \"C:\\Users\\pasqu\\AppData\\Local\\Programs\\Python\\Python312\\Lib\\json\\__init__.py\", line 346, in loads\n",
      "    return _default_decoder.decode(s)\n",
      "           ^^^^^^^^^^^^^^^^^^^^^^^^^^\n",
      "  File \"C:\\Users\\pasqu\\AppData\\Local\\Programs\\Python\\Python312\\Lib\\json\\decoder.py\", line 337, in decode\n",
      "    obj, end = self.raw_decode(s, idx=_w(s, 0).end())\n",
      "               ^^^^^^^^^^^^^^^^^^^^^^^^^^^^^^^^^^^^^^\n",
      "  File \"C:\\Users\\pasqu\\AppData\\Local\\Programs\\Python\\Python312\\Lib\\json\\decoder.py\", line 355, in raw_decode\n",
      "    raise JSONDecodeError(\"Expecting value\", s, err.value) from None\n",
      "json.decoder.JSONDecodeError: Expecting value: line 1 column 1 (char 0)\n",
      "\n",
      "During handling of the above exception, another exception occurred:\n",
      "\n",
      "Traceback (most recent call last):\n",
      "  File \"C:\\Users\\pasqu\\AppData\\Local\\Temp\\ipykernel_6500\\2271921589.py\", line 34, in get_all_post\n",
      "  File \"c:\\Progetti\\progetto_asnm\\Code\\data_extraction\\retrieve_post_by_userid.py\", line 100, in retrieve_thread_by_userid\n",
      "    return response.json()\n",
      "           ^^^^^^^^^^^^^^^\n",
      "  File \"c:\\Progetti\\progetto_asnm\\.venv\\Lib\\site-packages\\requests\\models.py\", line 978, in json\n",
      "    raise RequestsJSONDecodeError(e.msg, e.doc, e.pos)\n",
      "requests.exceptions.JSONDecodeError: Expecting value: line 1 column 1 (char 0)\n",
      "\n",
      "During handling of the above exception, another exception occurred:\n",
      "\n",
      "Traceback (most recent call last):\n",
      "  File \"C:\\Users\\pasqu\\AppData\\Local\\Programs\\Python\\Python312\\Lib\\threading.py\", line 1075, in _bootstrap_inner\n",
      "    self.run()\n",
      "  File \"c:\\Progetti\\progetto_asnm\\.venv\\Lib\\site-packages\\ipykernel\\ipkernel.py\", line 766, in run_closure\n",
      "    _threading_Thread_run(self)\n",
      "  File \"C:\\Users\\pasqu\\AppData\\Local\\Programs\\Python\\Python312\\Lib\\threading.py\", line 1012, in run\n",
      "    self._target(*self._args, **self._kwargs)\n",
      "  File \"C:\\Users\\pasqu\\AppData\\Local\\Temp\\ipykernel_6500\\71755803.py\", line 8, in process_user\n",
      "  File \"C:\\Users\\pasqu\\AppData\\Local\\Temp\\ipykernel_6500\\2271921589.py\", line 38, in get_all_post\n",
      "UnboundLocalError: cannot access local variable 'response' where it is not associated with a value\n",
      "Exception in thread Thread-2281 (process_user):\n",
      "Traceback (most recent call last):\n",
      "  File \"c:\\Progetti\\progetto_asnm\\.venv\\Lib\\site-packages\\requests\\models.py\", line 974, in json\n",
      "    return complexjson.loads(self.text, **kwargs)\n",
      "           ^^^^^^^^^^^^^^^^^^^^^^^^^^^^^^^^^^^^^^\n",
      "  File \"C:\\Users\\pasqu\\AppData\\Local\\Programs\\Python\\Python312\\Lib\\json\\__init__.py\", line 346, in loads\n",
      "    return _default_decoder.decode(s)\n",
      "           ^^^^^^^^^^^^^^^^^^^^^^^^^^\n",
      "  File \"C:\\Users\\pasqu\\AppData\\Local\\Programs\\Python\\Python312\\Lib\\json\\decoder.py\", line 337, in decode\n",
      "    obj, end = self.raw_decode(s, idx=_w(s, 0).end())\n",
      "               ^^^^^^^^^^^^^^^^^^^^^^^^^^^^^^^^^^^^^^\n",
      "  File \"C:\\Users\\pasqu\\AppData\\Local\\Programs\\Python\\Python312\\Lib\\json\\decoder.py\", line 355, in raw_decode\n",
      "    raise JSONDecodeError(\"Expecting value\", s, err.value) from None\n",
      "json.decoder.JSONDecodeError: Expecting value: line 1 column 1 (char 0)\n",
      "\n",
      "During handling of the above exception, another exception occurred:\n",
      "\n",
      "Traceback (most recent call last):\n",
      "  File \"C:\\Users\\pasqu\\AppData\\Local\\Temp\\ipykernel_6500\\2271921589.py\", line 34, in get_all_post\n",
      "  File \"c:\\Progetti\\progetto_asnm\\Code\\data_extraction\\retrieve_post_by_userid.py\", line 100, in retrieve_thread_by_userid\n",
      "    return response.json()\n",
      "           ^^^^^^^^^^^^^^^\n",
      "  File \"c:\\Progetti\\progetto_asnm\\.venv\\Lib\\site-packages\\requests\\models.py\", line 978, in json\n",
      "    raise RequestsJSONDecodeError(e.msg, e.doc, e.pos)\n",
      "requests.exceptions.JSONDecodeError: Expecting value: line 1 column 1 (char 0)\n",
      "\n",
      "During handling of the above exception, another exception occurred:\n",
      "\n",
      "Traceback (most recent call last):\n",
      "  File \"C:\\Users\\pasqu\\AppData\\Local\\Programs\\Python\\Python312\\Lib\\threading.py\", line 1075, in _bootstrap_inner\n",
      "    self.run()\n",
      "  File \"c:\\Progetti\\progetto_asnm\\.venv\\Lib\\site-packages\\ipykernel\\ipkernel.py\", line 766, in run_closure\n",
      "    _threading_Thread_run(self)\n",
      "  File \"C:\\Users\\pasqu\\AppData\\Local\\Programs\\Python\\Python312\\Lib\\threading.py\", line 1012, in run\n",
      "    self._target(*self._args, **self._kwargs)\n",
      "  File \"C:\\Users\\pasqu\\AppData\\Local\\Temp\\ipykernel_6500\\71755803.py\", line 8, in process_user\n",
      "  File \"C:\\Users\\pasqu\\AppData\\Local\\Temp\\ipykernel_6500\\2271921589.py\", line 38, in get_all_post\n",
      "UnboundLocalError: cannot access local variable 'response' where it is not associated with a value\n"
     ]
    },
    {
     "name": "stdout",
     "output_type": "stream",
     "text": [
      "Processati 2063 utenti su 125602\n",
      "Processati 2084 utenti su 125602\n",
      "Processati 2107 utenti su 125602\n",
      "Processati 2129 utenti su 125602\n",
      "Processati 2150 utenti su 125602\n",
      "Processati 2173 utenti su 125602\n",
      "Processati 2194 utenti su 125602\n",
      "Processati 2215 utenti su 125602\n",
      "Processati 2238 utenti su 125602\n",
      "Processati 2260 utenti su 125602\n",
      "Processati 2282 utenti su 125602\n",
      "Processati 2309 utenti su 125602\n",
      "Processati 2334 utenti su 125602\n",
      "Processati 2355 utenti su 125602\n",
      "Processati 2376 utenti su 125602\n",
      "Processati 2397 utenti su 125602\n",
      "Processati 2418 utenti su 125602\n",
      "Processati 2439 utenti su 125602\n",
      "Processati 2462 utenti su 125602\n",
      "Processati 2492 utenti su 125602\n",
      "Processati 2535 utenti su 125602\n",
      "Processati 2558 utenti su 125602\n",
      "Processati 2582 utenti su 125602\n",
      "Processati 2606 utenti su 125602\n",
      "Processati 2629 utenti su 125602\n",
      "Processati 2650 utenti su 125602\n",
      "Processati 2674 utenti su 125602\n",
      "Processati 2695 utenti su 125602\n",
      "Processati 2718 utenti su 125602\n",
      "Processati 2742 utenti su 125602\n",
      "Processati 2765 utenti su 125602\n",
      "Processati 2790 utenti su 125602\n",
      "Processati 2818 utenti su 125602\n",
      "Processati 2845 utenti su 125602\n",
      "Processati 2868 utenti su 125602\n",
      "Processati 2889 utenti su 125602\n",
      "Processati 2913 utenti su 125602\n",
      "Processati 2935 utenti su 125602\n",
      "Processati 2956 utenti su 125602\n",
      "Processati 2978 utenti su 125602\n",
      "Processati 3002 utenti su 125602\n",
      "Processati 3024 utenti su 125602\n",
      "Processati 3045 utenti su 125602\n",
      "Processati 3066 utenti su 125602\n",
      "Processati 3087 utenti su 125602\n",
      "Processati 3108 utenti su 125602\n",
      "Processati 3131 utenti su 125602\n",
      "Processati 3152 utenti su 125602\n",
      "Processati 3176 utenti su 125602\n",
      "Processati 3207 utenti su 125602\n",
      "Processati 3229 utenti su 125602\n",
      "Processati 3250 utenti su 125602\n",
      "Processati 3278 utenti su 125602\n",
      "Processati 3301 utenti su 125602\n",
      "Processati 3323 utenti su 125602\n",
      "Processati 3350 utenti su 125602\n",
      "Processati 3371 utenti su 125602\n",
      "Processati 3393 utenti su 125602\n",
      "Processati 3414 utenti su 125602\n",
      "Processati 3435 utenti su 125602\n",
      "Processati 3459 utenti su 125602\n",
      "Processati 3480 utenti su 125602\n",
      "Processati 3502 utenti su 125602\n",
      "Processati 3528 utenti su 125602\n",
      "Processati 3557 utenti su 125602\n",
      "Processati 3584 utenti su 125602\n",
      "Processati 3605 utenti su 125602\n",
      "Processati 3626 utenti su 125602\n",
      "Processati 3649 utenti su 125602\n",
      "Processati 3670 utenti su 125602\n",
      "Processati 3691 utenti su 125602\n",
      "Processati 3713 utenti su 125602\n",
      "Processati 3734 utenti su 125602\n",
      "Processati 3755 utenti su 125602\n",
      "Processati 3776 utenti su 125602\n",
      "Processati 3799 utenti su 125602\n",
      "Processati 3820 utenti su 125602\n",
      "Processati 3842 utenti su 125602\n"
     ]
    },
    {
     "name": "stderr",
     "output_type": "stream",
     "text": [
      "C:\\Users\\pasqu\\AppData\\Local\\Temp\\ipykernel_6500\\71755803.py:48: FutureWarning: The behavior of DataFrame concatenation with empty or all-NA entries is deprecated. In a future version, this will no longer exclude empty or all-NA columns when determining the result dtypes. To retain the old behavior, exclude the relevant entries before the concat operation.\n",
      "  final_df = pd.concat(all_data, ignore_index=True)\n",
      "C:\\Users\\pasqu\\AppData\\Local\\Temp\\ipykernel_6500\\71755803.py:34: FutureWarning: The behavior of DataFrame concatenation with empty or all-NA entries is deprecated. In a future version, this will no longer exclude empty or all-NA columns when determining the result dtypes. To retain the old behavior, exclude the relevant entries before the concat operation.\n",
      "  final_df = pd.concat(all_data, ignore_index=True)\n"
     ]
    },
    {
     "name": "stdout",
     "output_type": "stream",
     "text": [
      "Processati 3863 utenti su 125602\n"
     ]
    },
    {
     "name": "stderr",
     "output_type": "stream",
     "text": [
      "C:\\Users\\pasqu\\AppData\\Local\\Temp\\ipykernel_6500\\71755803.py:48: FutureWarning: The behavior of DataFrame concatenation with empty or all-NA entries is deprecated. In a future version, this will no longer exclude empty or all-NA columns when determining the result dtypes. To retain the old behavior, exclude the relevant entries before the concat operation.\n",
      "  final_df = pd.concat(all_data, ignore_index=True)\n",
      "C:\\Users\\pasqu\\AppData\\Local\\Temp\\ipykernel_6500\\71755803.py:48: FutureWarning: The behavior of DataFrame concatenation with empty or all-NA entries is deprecated. In a future version, this will no longer exclude empty or all-NA columns when determining the result dtypes. To retain the old behavior, exclude the relevant entries before the concat operation.\n",
      "  final_df = pd.concat(all_data, ignore_index=True)\n",
      "C:\\Users\\pasqu\\AppData\\Local\\Temp\\ipykernel_6500\\71755803.py:48: FutureWarning: The behavior of DataFrame concatenation with empty or all-NA entries is deprecated. In a future version, this will no longer exclude empty or all-NA columns when determining the result dtypes. To retain the old behavior, exclude the relevant entries before the concat operation.\n",
      "  final_df = pd.concat(all_data, ignore_index=True)\n",
      "C:\\Users\\pasqu\\AppData\\Local\\Temp\\ipykernel_6500\\71755803.py:48: FutureWarning: The behavior of DataFrame concatenation with empty or all-NA entries is deprecated. In a future version, this will no longer exclude empty or all-NA columns when determining the result dtypes. To retain the old behavior, exclude the relevant entries before the concat operation.\n",
      "  final_df = pd.concat(all_data, ignore_index=True)\n",
      "C:\\Users\\pasqu\\AppData\\Local\\Temp\\ipykernel_6500\\71755803.py:48: FutureWarning: The behavior of DataFrame concatenation with empty or all-NA entries is deprecated. In a future version, this will no longer exclude empty or all-NA columns when determining the result dtypes. To retain the old behavior, exclude the relevant entries before the concat operation.\n",
      "  final_df = pd.concat(all_data, ignore_index=True)\n",
      "C:\\Users\\pasqu\\AppData\\Local\\Temp\\ipykernel_6500\\71755803.py:48: FutureWarning: The behavior of DataFrame concatenation with empty or all-NA entries is deprecated. In a future version, this will no longer exclude empty or all-NA columns when determining the result dtypes. To retain the old behavior, exclude the relevant entries before the concat operation.\n",
      "  final_df = pd.concat(all_data, ignore_index=True)\n",
      "C:\\Users\\pasqu\\AppData\\Local\\Temp\\ipykernel_6500\\71755803.py:48: FutureWarning: The behavior of DataFrame concatenation with empty or all-NA entries is deprecated. In a future version, this will no longer exclude empty or all-NA columns when determining the result dtypes. To retain the old behavior, exclude the relevant entries before the concat operation.\n",
      "  final_df = pd.concat(all_data, ignore_index=True)\n",
      "C:\\Users\\pasqu\\AppData\\Local\\Temp\\ipykernel_6500\\71755803.py:34: FutureWarning: The behavior of DataFrame concatenation with empty or all-NA entries is deprecated. In a future version, this will no longer exclude empty or all-NA columns when determining the result dtypes. To retain the old behavior, exclude the relevant entries before the concat operation.\n",
      "  final_df = pd.concat(all_data, ignore_index=True)\n"
     ]
    },
    {
     "name": "stdout",
     "output_type": "stream",
     "text": [
      "Processati 3884 utenti su 125602\n"
     ]
    },
    {
     "name": "stderr",
     "output_type": "stream",
     "text": [
      "C:\\Users\\pasqu\\AppData\\Local\\Temp\\ipykernel_6500\\71755803.py:48: FutureWarning: The behavior of DataFrame concatenation with empty or all-NA entries is deprecated. In a future version, this will no longer exclude empty or all-NA columns when determining the result dtypes. To retain the old behavior, exclude the relevant entries before the concat operation.\n",
      "  final_df = pd.concat(all_data, ignore_index=True)\n",
      "C:\\Users\\pasqu\\AppData\\Local\\Temp\\ipykernel_6500\\71755803.py:48: FutureWarning: The behavior of DataFrame concatenation with empty or all-NA entries is deprecated. In a future version, this will no longer exclude empty or all-NA columns when determining the result dtypes. To retain the old behavior, exclude the relevant entries before the concat operation.\n",
      "  final_df = pd.concat(all_data, ignore_index=True)\n",
      "C:\\Users\\pasqu\\AppData\\Local\\Temp\\ipykernel_6500\\71755803.py:48: FutureWarning: The behavior of DataFrame concatenation with empty or all-NA entries is deprecated. In a future version, this will no longer exclude empty or all-NA columns when determining the result dtypes. To retain the old behavior, exclude the relevant entries before the concat operation.\n",
      "  final_df = pd.concat(all_data, ignore_index=True)\n",
      "C:\\Users\\pasqu\\AppData\\Local\\Temp\\ipykernel_6500\\71755803.py:48: FutureWarning: The behavior of DataFrame concatenation with empty or all-NA entries is deprecated. In a future version, this will no longer exclude empty or all-NA columns when determining the result dtypes. To retain the old behavior, exclude the relevant entries before the concat operation.\n",
      "  final_df = pd.concat(all_data, ignore_index=True)\n",
      "C:\\Users\\pasqu\\AppData\\Local\\Temp\\ipykernel_6500\\71755803.py:48: FutureWarning: The behavior of DataFrame concatenation with empty or all-NA entries is deprecated. In a future version, this will no longer exclude empty or all-NA columns when determining the result dtypes. To retain the old behavior, exclude the relevant entries before the concat operation.\n",
      "  final_df = pd.concat(all_data, ignore_index=True)\n",
      "C:\\Users\\pasqu\\AppData\\Local\\Temp\\ipykernel_6500\\71755803.py:48: FutureWarning: The behavior of DataFrame concatenation with empty or all-NA entries is deprecated. In a future version, this will no longer exclude empty or all-NA columns when determining the result dtypes. To retain the old behavior, exclude the relevant entries before the concat operation.\n",
      "  final_df = pd.concat(all_data, ignore_index=True)\n",
      "C:\\Users\\pasqu\\AppData\\Local\\Temp\\ipykernel_6500\\71755803.py:48: FutureWarning: The behavior of DataFrame concatenation with empty or all-NA entries is deprecated. In a future version, this will no longer exclude empty or all-NA columns when determining the result dtypes. To retain the old behavior, exclude the relevant entries before the concat operation.\n",
      "  final_df = pd.concat(all_data, ignore_index=True)\n",
      "C:\\Users\\pasqu\\AppData\\Local\\Temp\\ipykernel_6500\\71755803.py:48: FutureWarning: The behavior of DataFrame concatenation with empty or all-NA entries is deprecated. In a future version, this will no longer exclude empty or all-NA columns when determining the result dtypes. To retain the old behavior, exclude the relevant entries before the concat operation.\n",
      "  final_df = pd.concat(all_data, ignore_index=True)\n",
      "C:\\Users\\pasqu\\AppData\\Local\\Temp\\ipykernel_6500\\71755803.py:34: FutureWarning: The behavior of DataFrame concatenation with empty or all-NA entries is deprecated. In a future version, this will no longer exclude empty or all-NA columns when determining the result dtypes. To retain the old behavior, exclude the relevant entries before the concat operation.\n",
      "  final_df = pd.concat(all_data, ignore_index=True)\n"
     ]
    },
    {
     "name": "stdout",
     "output_type": "stream",
     "text": [
      "Processati 3905 utenti su 125602\n"
     ]
    },
    {
     "name": "stderr",
     "output_type": "stream",
     "text": [
      "C:\\Users\\pasqu\\AppData\\Local\\Temp\\ipykernel_6500\\71755803.py:48: FutureWarning: The behavior of DataFrame concatenation with empty or all-NA entries is deprecated. In a future version, this will no longer exclude empty or all-NA columns when determining the result dtypes. To retain the old behavior, exclude the relevant entries before the concat operation.\n",
      "  final_df = pd.concat(all_data, ignore_index=True)\n",
      "C:\\Users\\pasqu\\AppData\\Local\\Temp\\ipykernel_6500\\71755803.py:48: FutureWarning: The behavior of DataFrame concatenation with empty or all-NA entries is deprecated. In a future version, this will no longer exclude empty or all-NA columns when determining the result dtypes. To retain the old behavior, exclude the relevant entries before the concat operation.\n",
      "  final_df = pd.concat(all_data, ignore_index=True)\n",
      "C:\\Users\\pasqu\\AppData\\Local\\Temp\\ipykernel_6500\\71755803.py:48: FutureWarning: The behavior of DataFrame concatenation with empty or all-NA entries is deprecated. In a future version, this will no longer exclude empty or all-NA columns when determining the result dtypes. To retain the old behavior, exclude the relevant entries before the concat operation.\n",
      "  final_df = pd.concat(all_data, ignore_index=True)\n",
      "C:\\Users\\pasqu\\AppData\\Local\\Temp\\ipykernel_6500\\71755803.py:48: FutureWarning: The behavior of DataFrame concatenation with empty or all-NA entries is deprecated. In a future version, this will no longer exclude empty or all-NA columns when determining the result dtypes. To retain the old behavior, exclude the relevant entries before the concat operation.\n",
      "  final_df = pd.concat(all_data, ignore_index=True)\n",
      "C:\\Users\\pasqu\\AppData\\Local\\Temp\\ipykernel_6500\\71755803.py:48: FutureWarning: The behavior of DataFrame concatenation with empty or all-NA entries is deprecated. In a future version, this will no longer exclude empty or all-NA columns when determining the result dtypes. To retain the old behavior, exclude the relevant entries before the concat operation.\n",
      "  final_df = pd.concat(all_data, ignore_index=True)\n",
      "C:\\Users\\pasqu\\AppData\\Local\\Temp\\ipykernel_6500\\71755803.py:48: FutureWarning: The behavior of DataFrame concatenation with empty or all-NA entries is deprecated. In a future version, this will no longer exclude empty or all-NA columns when determining the result dtypes. To retain the old behavior, exclude the relevant entries before the concat operation.\n",
      "  final_df = pd.concat(all_data, ignore_index=True)\n",
      "C:\\Users\\pasqu\\AppData\\Local\\Temp\\ipykernel_6500\\71755803.py:48: FutureWarning: The behavior of DataFrame concatenation with empty or all-NA entries is deprecated. In a future version, this will no longer exclude empty or all-NA columns when determining the result dtypes. To retain the old behavior, exclude the relevant entries before the concat operation.\n",
      "  final_df = pd.concat(all_data, ignore_index=True)\n",
      "C:\\Users\\pasqu\\AppData\\Local\\Temp\\ipykernel_6500\\71755803.py:34: FutureWarning: The behavior of DataFrame concatenation with empty or all-NA entries is deprecated. In a future version, this will no longer exclude empty or all-NA columns when determining the result dtypes. To retain the old behavior, exclude the relevant entries before the concat operation.\n",
      "  final_df = pd.concat(all_data, ignore_index=True)\n"
     ]
    },
    {
     "name": "stdout",
     "output_type": "stream",
     "text": [
      "Processati 3926 utenti su 125602\n"
     ]
    },
    {
     "name": "stderr",
     "output_type": "stream",
     "text": [
      "C:\\Users\\pasqu\\AppData\\Local\\Temp\\ipykernel_6500\\71755803.py:48: FutureWarning: The behavior of DataFrame concatenation with empty or all-NA entries is deprecated. In a future version, this will no longer exclude empty or all-NA columns when determining the result dtypes. To retain the old behavior, exclude the relevant entries before the concat operation.\n",
      "  final_df = pd.concat(all_data, ignore_index=True)\n",
      "C:\\Users\\pasqu\\AppData\\Local\\Temp\\ipykernel_6500\\71755803.py:48: FutureWarning: The behavior of DataFrame concatenation with empty or all-NA entries is deprecated. In a future version, this will no longer exclude empty or all-NA columns when determining the result dtypes. To retain the old behavior, exclude the relevant entries before the concat operation.\n",
      "  final_df = pd.concat(all_data, ignore_index=True)\n",
      "C:\\Users\\pasqu\\AppData\\Local\\Temp\\ipykernel_6500\\71755803.py:34: FutureWarning: The behavior of DataFrame concatenation with empty or all-NA entries is deprecated. In a future version, this will no longer exclude empty or all-NA columns when determining the result dtypes. To retain the old behavior, exclude the relevant entries before the concat operation.\n",
      "  final_df = pd.concat(all_data, ignore_index=True)\n"
     ]
    },
    {
     "name": "stdout",
     "output_type": "stream",
     "text": [
      "Processati 3947 utenti su 125602\n"
     ]
    },
    {
     "name": "stderr",
     "output_type": "stream",
     "text": [
      "C:\\Users\\pasqu\\AppData\\Local\\Temp\\ipykernel_6500\\71755803.py:48: FutureWarning: The behavior of DataFrame concatenation with empty or all-NA entries is deprecated. In a future version, this will no longer exclude empty or all-NA columns when determining the result dtypes. To retain the old behavior, exclude the relevant entries before the concat operation.\n",
      "  final_df = pd.concat(all_data, ignore_index=True)\n",
      "C:\\Users\\pasqu\\AppData\\Local\\Temp\\ipykernel_6500\\71755803.py:48: FutureWarning: The behavior of DataFrame concatenation with empty or all-NA entries is deprecated. In a future version, this will no longer exclude empty or all-NA columns when determining the result dtypes. To retain the old behavior, exclude the relevant entries before the concat operation.\n",
      "  final_df = pd.concat(all_data, ignore_index=True)\n",
      "C:\\Users\\pasqu\\AppData\\Local\\Temp\\ipykernel_6500\\71755803.py:48: FutureWarning: The behavior of DataFrame concatenation with empty or all-NA entries is deprecated. In a future version, this will no longer exclude empty or all-NA columns when determining the result dtypes. To retain the old behavior, exclude the relevant entries before the concat operation.\n",
      "  final_df = pd.concat(all_data, ignore_index=True)\n",
      "C:\\Users\\pasqu\\AppData\\Local\\Temp\\ipykernel_6500\\71755803.py:48: FutureWarning: The behavior of DataFrame concatenation with empty or all-NA entries is deprecated. In a future version, this will no longer exclude empty or all-NA columns when determining the result dtypes. To retain the old behavior, exclude the relevant entries before the concat operation.\n",
      "  final_df = pd.concat(all_data, ignore_index=True)\n",
      "C:\\Users\\pasqu\\AppData\\Local\\Temp\\ipykernel_6500\\71755803.py:48: FutureWarning: The behavior of DataFrame concatenation with empty or all-NA entries is deprecated. In a future version, this will no longer exclude empty or all-NA columns when determining the result dtypes. To retain the old behavior, exclude the relevant entries before the concat operation.\n",
      "  final_df = pd.concat(all_data, ignore_index=True)\n",
      "C:\\Users\\pasqu\\AppData\\Local\\Temp\\ipykernel_6500\\71755803.py:48: FutureWarning: The behavior of DataFrame concatenation with empty or all-NA entries is deprecated. In a future version, this will no longer exclude empty or all-NA columns when determining the result dtypes. To retain the old behavior, exclude the relevant entries before the concat operation.\n",
      "  final_df = pd.concat(all_data, ignore_index=True)\n",
      "C:\\Users\\pasqu\\AppData\\Local\\Temp\\ipykernel_6500\\71755803.py:48: FutureWarning: The behavior of DataFrame concatenation with empty or all-NA entries is deprecated. In a future version, this will no longer exclude empty or all-NA columns when determining the result dtypes. To retain the old behavior, exclude the relevant entries before the concat operation.\n",
      "  final_df = pd.concat(all_data, ignore_index=True)\n",
      "C:\\Users\\pasqu\\AppData\\Local\\Temp\\ipykernel_6500\\71755803.py:48: FutureWarning: The behavior of DataFrame concatenation with empty or all-NA entries is deprecated. In a future version, this will no longer exclude empty or all-NA columns when determining the result dtypes. To retain the old behavior, exclude the relevant entries before the concat operation.\n",
      "  final_df = pd.concat(all_data, ignore_index=True)\n",
      "C:\\Users\\pasqu\\AppData\\Local\\Temp\\ipykernel_6500\\71755803.py:34: FutureWarning: The behavior of DataFrame concatenation with empty or all-NA entries is deprecated. In a future version, this will no longer exclude empty or all-NA columns when determining the result dtypes. To retain the old behavior, exclude the relevant entries before the concat operation.\n",
      "  final_df = pd.concat(all_data, ignore_index=True)\n"
     ]
    },
    {
     "name": "stdout",
     "output_type": "stream",
     "text": [
      "Processati 3968 utenti su 125602\n",
      "Processati 3989 utenti su 125602\n"
     ]
    },
    {
     "name": "stderr",
     "output_type": "stream",
     "text": [
      "C:\\Users\\pasqu\\AppData\\Local\\Temp\\ipykernel_6500\\71755803.py:48: FutureWarning: The behavior of DataFrame concatenation with empty or all-NA entries is deprecated. In a future version, this will no longer exclude empty or all-NA columns when determining the result dtypes. To retain the old behavior, exclude the relevant entries before the concat operation.\n",
      "  final_df = pd.concat(all_data, ignore_index=True)\n",
      "C:\\Users\\pasqu\\AppData\\Local\\Temp\\ipykernel_6500\\71755803.py:48: FutureWarning: The behavior of DataFrame concatenation with empty or all-NA entries is deprecated. In a future version, this will no longer exclude empty or all-NA columns when determining the result dtypes. To retain the old behavior, exclude the relevant entries before the concat operation.\n",
      "  final_df = pd.concat(all_data, ignore_index=True)\n",
      "C:\\Users\\pasqu\\AppData\\Local\\Temp\\ipykernel_6500\\71755803.py:48: FutureWarning: The behavior of DataFrame concatenation with empty or all-NA entries is deprecated. In a future version, this will no longer exclude empty or all-NA columns when determining the result dtypes. To retain the old behavior, exclude the relevant entries before the concat operation.\n",
      "  final_df = pd.concat(all_data, ignore_index=True)\n",
      "C:\\Users\\pasqu\\AppData\\Local\\Temp\\ipykernel_6500\\71755803.py:48: FutureWarning: The behavior of DataFrame concatenation with empty or all-NA entries is deprecated. In a future version, this will no longer exclude empty or all-NA columns when determining the result dtypes. To retain the old behavior, exclude the relevant entries before the concat operation.\n",
      "  final_df = pd.concat(all_data, ignore_index=True)\n",
      "C:\\Users\\pasqu\\AppData\\Local\\Temp\\ipykernel_6500\\71755803.py:34: FutureWarning: The behavior of DataFrame concatenation with empty or all-NA entries is deprecated. In a future version, this will no longer exclude empty or all-NA columns when determining the result dtypes. To retain the old behavior, exclude the relevant entries before the concat operation.\n",
      "  final_df = pd.concat(all_data, ignore_index=True)\n"
     ]
    },
    {
     "name": "stdout",
     "output_type": "stream",
     "text": [
      "Processati 4010 utenti su 125602\n",
      "Processati 4031 utenti su 125602\n"
     ]
    },
    {
     "name": "stderr",
     "output_type": "stream",
     "text": [
      "C:\\Users\\pasqu\\AppData\\Local\\Temp\\ipykernel_6500\\71755803.py:48: FutureWarning: The behavior of DataFrame concatenation with empty or all-NA entries is deprecated. In a future version, this will no longer exclude empty or all-NA columns when determining the result dtypes. To retain the old behavior, exclude the relevant entries before the concat operation.\n",
      "  final_df = pd.concat(all_data, ignore_index=True)\n",
      "C:\\Users\\pasqu\\AppData\\Local\\Temp\\ipykernel_6500\\71755803.py:48: FutureWarning: The behavior of DataFrame concatenation with empty or all-NA entries is deprecated. In a future version, this will no longer exclude empty or all-NA columns when determining the result dtypes. To retain the old behavior, exclude the relevant entries before the concat operation.\n",
      "  final_df = pd.concat(all_data, ignore_index=True)\n",
      "C:\\Users\\pasqu\\AppData\\Local\\Temp\\ipykernel_6500\\71755803.py:48: FutureWarning: The behavior of DataFrame concatenation with empty or all-NA entries is deprecated. In a future version, this will no longer exclude empty or all-NA columns when determining the result dtypes. To retain the old behavior, exclude the relevant entries before the concat operation.\n",
      "  final_df = pd.concat(all_data, ignore_index=True)\n",
      "C:\\Users\\pasqu\\AppData\\Local\\Temp\\ipykernel_6500\\71755803.py:48: FutureWarning: The behavior of DataFrame concatenation with empty or all-NA entries is deprecated. In a future version, this will no longer exclude empty or all-NA columns when determining the result dtypes. To retain the old behavior, exclude the relevant entries before the concat operation.\n",
      "  final_df = pd.concat(all_data, ignore_index=True)\n",
      "C:\\Users\\pasqu\\AppData\\Local\\Temp\\ipykernel_6500\\71755803.py:48: FutureWarning: The behavior of DataFrame concatenation with empty or all-NA entries is deprecated. In a future version, this will no longer exclude empty or all-NA columns when determining the result dtypes. To retain the old behavior, exclude the relevant entries before the concat operation.\n",
      "  final_df = pd.concat(all_data, ignore_index=True)\n",
      "C:\\Users\\pasqu\\AppData\\Local\\Temp\\ipykernel_6500\\71755803.py:48: FutureWarning: The behavior of DataFrame concatenation with empty or all-NA entries is deprecated. In a future version, this will no longer exclude empty or all-NA columns when determining the result dtypes. To retain the old behavior, exclude the relevant entries before the concat operation.\n",
      "  final_df = pd.concat(all_data, ignore_index=True)\n",
      "C:\\Users\\pasqu\\AppData\\Local\\Temp\\ipykernel_6500\\71755803.py:48: FutureWarning: The behavior of DataFrame concatenation with empty or all-NA entries is deprecated. In a future version, this will no longer exclude empty or all-NA columns when determining the result dtypes. To retain the old behavior, exclude the relevant entries before the concat operation.\n",
      "  final_df = pd.concat(all_data, ignore_index=True)\n",
      "C:\\Users\\pasqu\\AppData\\Local\\Temp\\ipykernel_6500\\71755803.py:48: FutureWarning: The behavior of DataFrame concatenation with empty or all-NA entries is deprecated. In a future version, this will no longer exclude empty or all-NA columns when determining the result dtypes. To retain the old behavior, exclude the relevant entries before the concat operation.\n",
      "  final_df = pd.concat(all_data, ignore_index=True)\n",
      "C:\\Users\\pasqu\\AppData\\Local\\Temp\\ipykernel_6500\\71755803.py:34: FutureWarning: The behavior of DataFrame concatenation with empty or all-NA entries is deprecated. In a future version, this will no longer exclude empty or all-NA columns when determining the result dtypes. To retain the old behavior, exclude the relevant entries before the concat operation.\n",
      "  final_df = pd.concat(all_data, ignore_index=True)\n"
     ]
    },
    {
     "name": "stdout",
     "output_type": "stream",
     "text": [
      "Processati 4052 utenti su 125602\n"
     ]
    },
    {
     "name": "stderr",
     "output_type": "stream",
     "text": [
      "C:\\Users\\pasqu\\AppData\\Local\\Temp\\ipykernel_6500\\71755803.py:48: FutureWarning: The behavior of DataFrame concatenation with empty or all-NA entries is deprecated. In a future version, this will no longer exclude empty or all-NA columns when determining the result dtypes. To retain the old behavior, exclude the relevant entries before the concat operation.\n",
      "  final_df = pd.concat(all_data, ignore_index=True)\n",
      "C:\\Users\\pasqu\\AppData\\Local\\Temp\\ipykernel_6500\\71755803.py:34: FutureWarning: The behavior of DataFrame concatenation with empty or all-NA entries is deprecated. In a future version, this will no longer exclude empty or all-NA columns when determining the result dtypes. To retain the old behavior, exclude the relevant entries before the concat operation.\n",
      "  final_df = pd.concat(all_data, ignore_index=True)\n"
     ]
    },
    {
     "name": "stdout",
     "output_type": "stream",
     "text": [
      "Processati 4073 utenti su 125602\n"
     ]
    },
    {
     "name": "stderr",
     "output_type": "stream",
     "text": [
      "C:\\Users\\pasqu\\AppData\\Local\\Temp\\ipykernel_6500\\71755803.py:48: FutureWarning: The behavior of DataFrame concatenation with empty or all-NA entries is deprecated. In a future version, this will no longer exclude empty or all-NA columns when determining the result dtypes. To retain the old behavior, exclude the relevant entries before the concat operation.\n",
      "  final_df = pd.concat(all_data, ignore_index=True)\n",
      "C:\\Users\\pasqu\\AppData\\Local\\Temp\\ipykernel_6500\\71755803.py:48: FutureWarning: The behavior of DataFrame concatenation with empty or all-NA entries is deprecated. In a future version, this will no longer exclude empty or all-NA columns when determining the result dtypes. To retain the old behavior, exclude the relevant entries before the concat operation.\n",
      "  final_df = pd.concat(all_data, ignore_index=True)\n",
      "C:\\Users\\pasqu\\AppData\\Local\\Temp\\ipykernel_6500\\71755803.py:48: FutureWarning: The behavior of DataFrame concatenation with empty or all-NA entries is deprecated. In a future version, this will no longer exclude empty or all-NA columns when determining the result dtypes. To retain the old behavior, exclude the relevant entries before the concat operation.\n",
      "  final_df = pd.concat(all_data, ignore_index=True)\n",
      "C:\\Users\\pasqu\\AppData\\Local\\Temp\\ipykernel_6500\\71755803.py:48: FutureWarning: The behavior of DataFrame concatenation with empty or all-NA entries is deprecated. In a future version, this will no longer exclude empty or all-NA columns when determining the result dtypes. To retain the old behavior, exclude the relevant entries before the concat operation.\n",
      "  final_df = pd.concat(all_data, ignore_index=True)\n",
      "C:\\Users\\pasqu\\AppData\\Local\\Temp\\ipykernel_6500\\71755803.py:48: FutureWarning: The behavior of DataFrame concatenation with empty or all-NA entries is deprecated. In a future version, this will no longer exclude empty or all-NA columns when determining the result dtypes. To retain the old behavior, exclude the relevant entries before the concat operation.\n",
      "  final_df = pd.concat(all_data, ignore_index=True)\n",
      "C:\\Users\\pasqu\\AppData\\Local\\Temp\\ipykernel_6500\\71755803.py:48: FutureWarning: The behavior of DataFrame concatenation with empty or all-NA entries is deprecated. In a future version, this will no longer exclude empty or all-NA columns when determining the result dtypes. To retain the old behavior, exclude the relevant entries before the concat operation.\n",
      "  final_df = pd.concat(all_data, ignore_index=True)\n",
      "C:\\Users\\pasqu\\AppData\\Local\\Temp\\ipykernel_6500\\71755803.py:34: FutureWarning: The behavior of DataFrame concatenation with empty or all-NA entries is deprecated. In a future version, this will no longer exclude empty or all-NA columns when determining the result dtypes. To retain the old behavior, exclude the relevant entries before the concat operation.\n",
      "  final_df = pd.concat(all_data, ignore_index=True)\n"
     ]
    },
    {
     "name": "stdout",
     "output_type": "stream",
     "text": [
      "Processati 4094 utenti su 125602\n"
     ]
    },
    {
     "name": "stderr",
     "output_type": "stream",
     "text": [
      "C:\\Users\\pasqu\\AppData\\Local\\Temp\\ipykernel_6500\\71755803.py:48: FutureWarning: The behavior of DataFrame concatenation with empty or all-NA entries is deprecated. In a future version, this will no longer exclude empty or all-NA columns when determining the result dtypes. To retain the old behavior, exclude the relevant entries before the concat operation.\n",
      "  final_df = pd.concat(all_data, ignore_index=True)\n",
      "C:\\Users\\pasqu\\AppData\\Local\\Temp\\ipykernel_6500\\71755803.py:48: FutureWarning: The behavior of DataFrame concatenation with empty or all-NA entries is deprecated. In a future version, this will no longer exclude empty or all-NA columns when determining the result dtypes. To retain the old behavior, exclude the relevant entries before the concat operation.\n",
      "  final_df = pd.concat(all_data, ignore_index=True)\n",
      "C:\\Users\\pasqu\\AppData\\Local\\Temp\\ipykernel_6500\\71755803.py:48: FutureWarning: The behavior of DataFrame concatenation with empty or all-NA entries is deprecated. In a future version, this will no longer exclude empty or all-NA columns when determining the result dtypes. To retain the old behavior, exclude the relevant entries before the concat operation.\n",
      "  final_df = pd.concat(all_data, ignore_index=True)\n",
      "C:\\Users\\pasqu\\AppData\\Local\\Temp\\ipykernel_6500\\71755803.py:48: FutureWarning: The behavior of DataFrame concatenation with empty or all-NA entries is deprecated. In a future version, this will no longer exclude empty or all-NA columns when determining the result dtypes. To retain the old behavior, exclude the relevant entries before the concat operation.\n",
      "  final_df = pd.concat(all_data, ignore_index=True)\n",
      "C:\\Users\\pasqu\\AppData\\Local\\Temp\\ipykernel_6500\\71755803.py:48: FutureWarning: The behavior of DataFrame concatenation with empty or all-NA entries is deprecated. In a future version, this will no longer exclude empty or all-NA columns when determining the result dtypes. To retain the old behavior, exclude the relevant entries before the concat operation.\n",
      "  final_df = pd.concat(all_data, ignore_index=True)\n",
      "C:\\Users\\pasqu\\AppData\\Local\\Temp\\ipykernel_6500\\71755803.py:48: FutureWarning: The behavior of DataFrame concatenation with empty or all-NA entries is deprecated. In a future version, this will no longer exclude empty or all-NA columns when determining the result dtypes. To retain the old behavior, exclude the relevant entries before the concat operation.\n",
      "  final_df = pd.concat(all_data, ignore_index=True)\n",
      "C:\\Users\\pasqu\\AppData\\Local\\Temp\\ipykernel_6500\\71755803.py:34: FutureWarning: The behavior of DataFrame concatenation with empty or all-NA entries is deprecated. In a future version, this will no longer exclude empty or all-NA columns when determining the result dtypes. To retain the old behavior, exclude the relevant entries before the concat operation.\n",
      "  final_df = pd.concat(all_data, ignore_index=True)\n"
     ]
    },
    {
     "name": "stdout",
     "output_type": "stream",
     "text": [
      "Processati 4115 utenti su 125602\n"
     ]
    },
    {
     "name": "stderr",
     "output_type": "stream",
     "text": [
      "C:\\Users\\pasqu\\AppData\\Local\\Temp\\ipykernel_6500\\71755803.py:48: FutureWarning: The behavior of DataFrame concatenation with empty or all-NA entries is deprecated. In a future version, this will no longer exclude empty or all-NA columns when determining the result dtypes. To retain the old behavior, exclude the relevant entries before the concat operation.\n",
      "  final_df = pd.concat(all_data, ignore_index=True)\n",
      "C:\\Users\\pasqu\\AppData\\Local\\Temp\\ipykernel_6500\\71755803.py:48: FutureWarning: The behavior of DataFrame concatenation with empty or all-NA entries is deprecated. In a future version, this will no longer exclude empty or all-NA columns when determining the result dtypes. To retain the old behavior, exclude the relevant entries before the concat operation.\n",
      "  final_df = pd.concat(all_data, ignore_index=True)\n",
      "C:\\Users\\pasqu\\AppData\\Local\\Temp\\ipykernel_6500\\71755803.py:34: FutureWarning: The behavior of DataFrame concatenation with empty or all-NA entries is deprecated. In a future version, this will no longer exclude empty or all-NA columns when determining the result dtypes. To retain the old behavior, exclude the relevant entries before the concat operation.\n",
      "  final_df = pd.concat(all_data, ignore_index=True)\n"
     ]
    },
    {
     "name": "stdout",
     "output_type": "stream",
     "text": [
      "Processati 4136 utenti su 125602\n"
     ]
    },
    {
     "name": "stderr",
     "output_type": "stream",
     "text": [
      "C:\\Users\\pasqu\\AppData\\Local\\Temp\\ipykernel_6500\\71755803.py:48: FutureWarning: The behavior of DataFrame concatenation with empty or all-NA entries is deprecated. In a future version, this will no longer exclude empty or all-NA columns when determining the result dtypes. To retain the old behavior, exclude the relevant entries before the concat operation.\n",
      "  final_df = pd.concat(all_data, ignore_index=True)\n",
      "C:\\Users\\pasqu\\AppData\\Local\\Temp\\ipykernel_6500\\71755803.py:48: FutureWarning: The behavior of DataFrame concatenation with empty or all-NA entries is deprecated. In a future version, this will no longer exclude empty or all-NA columns when determining the result dtypes. To retain the old behavior, exclude the relevant entries before the concat operation.\n",
      "  final_df = pd.concat(all_data, ignore_index=True)\n",
      "C:\\Users\\pasqu\\AppData\\Local\\Temp\\ipykernel_6500\\71755803.py:48: FutureWarning: The behavior of DataFrame concatenation with empty or all-NA entries is deprecated. In a future version, this will no longer exclude empty or all-NA columns when determining the result dtypes. To retain the old behavior, exclude the relevant entries before the concat operation.\n",
      "  final_df = pd.concat(all_data, ignore_index=True)\n",
      "C:\\Users\\pasqu\\AppData\\Local\\Temp\\ipykernel_6500\\71755803.py:48: FutureWarning: The behavior of DataFrame concatenation with empty or all-NA entries is deprecated. In a future version, this will no longer exclude empty or all-NA columns when determining the result dtypes. To retain the old behavior, exclude the relevant entries before the concat operation.\n",
      "  final_df = pd.concat(all_data, ignore_index=True)\n",
      "C:\\Users\\pasqu\\AppData\\Local\\Temp\\ipykernel_6500\\71755803.py:34: FutureWarning: The behavior of DataFrame concatenation with empty or all-NA entries is deprecated. In a future version, this will no longer exclude empty or all-NA columns when determining the result dtypes. To retain the old behavior, exclude the relevant entries before the concat operation.\n",
      "  final_df = pd.concat(all_data, ignore_index=True)\n"
     ]
    },
    {
     "name": "stdout",
     "output_type": "stream",
     "text": [
      "Processati 4157 utenti su 125602\n",
      "Processati 4178 utenti su 125602\n"
     ]
    },
    {
     "name": "stderr",
     "output_type": "stream",
     "text": [
      "C:\\Users\\pasqu\\AppData\\Local\\Temp\\ipykernel_6500\\71755803.py:48: FutureWarning: The behavior of DataFrame concatenation with empty or all-NA entries is deprecated. In a future version, this will no longer exclude empty or all-NA columns when determining the result dtypes. To retain the old behavior, exclude the relevant entries before the concat operation.\n",
      "  final_df = pd.concat(all_data, ignore_index=True)\n",
      "C:\\Users\\pasqu\\AppData\\Local\\Temp\\ipykernel_6500\\71755803.py:48: FutureWarning: The behavior of DataFrame concatenation with empty or all-NA entries is deprecated. In a future version, this will no longer exclude empty or all-NA columns when determining the result dtypes. To retain the old behavior, exclude the relevant entries before the concat operation.\n",
      "  final_df = pd.concat(all_data, ignore_index=True)\n",
      "C:\\Users\\pasqu\\AppData\\Local\\Temp\\ipykernel_6500\\71755803.py:48: FutureWarning: The behavior of DataFrame concatenation with empty or all-NA entries is deprecated. In a future version, this will no longer exclude empty or all-NA columns when determining the result dtypes. To retain the old behavior, exclude the relevant entries before the concat operation.\n",
      "  final_df = pd.concat(all_data, ignore_index=True)\n",
      "C:\\Users\\pasqu\\AppData\\Local\\Temp\\ipykernel_6500\\71755803.py:48: FutureWarning: The behavior of DataFrame concatenation with empty or all-NA entries is deprecated. In a future version, this will no longer exclude empty or all-NA columns when determining the result dtypes. To retain the old behavior, exclude the relevant entries before the concat operation.\n",
      "  final_df = pd.concat(all_data, ignore_index=True)\n",
      "C:\\Users\\pasqu\\AppData\\Local\\Temp\\ipykernel_6500\\71755803.py:34: FutureWarning: The behavior of DataFrame concatenation with empty or all-NA entries is deprecated. In a future version, this will no longer exclude empty or all-NA columns when determining the result dtypes. To retain the old behavior, exclude the relevant entries before the concat operation.\n",
      "  final_df = pd.concat(all_data, ignore_index=True)\n"
     ]
    },
    {
     "name": "stdout",
     "output_type": "stream",
     "text": [
      "Processati 4199 utenti su 125602\n"
     ]
    },
    {
     "name": "stderr",
     "output_type": "stream",
     "text": [
      "C:\\Users\\pasqu\\AppData\\Local\\Temp\\ipykernel_6500\\71755803.py:48: FutureWarning: The behavior of DataFrame concatenation with empty or all-NA entries is deprecated. In a future version, this will no longer exclude empty or all-NA columns when determining the result dtypes. To retain the old behavior, exclude the relevant entries before the concat operation.\n",
      "  final_df = pd.concat(all_data, ignore_index=True)\n",
      "C:\\Users\\pasqu\\AppData\\Local\\Temp\\ipykernel_6500\\71755803.py:48: FutureWarning: The behavior of DataFrame concatenation with empty or all-NA entries is deprecated. In a future version, this will no longer exclude empty or all-NA columns when determining the result dtypes. To retain the old behavior, exclude the relevant entries before the concat operation.\n",
      "  final_df = pd.concat(all_data, ignore_index=True)\n",
      "C:\\Users\\pasqu\\AppData\\Local\\Temp\\ipykernel_6500\\71755803.py:48: FutureWarning: The behavior of DataFrame concatenation with empty or all-NA entries is deprecated. In a future version, this will no longer exclude empty or all-NA columns when determining the result dtypes. To retain the old behavior, exclude the relevant entries before the concat operation.\n",
      "  final_df = pd.concat(all_data, ignore_index=True)\n",
      "C:\\Users\\pasqu\\AppData\\Local\\Temp\\ipykernel_6500\\71755803.py:48: FutureWarning: The behavior of DataFrame concatenation with empty or all-NA entries is deprecated. In a future version, this will no longer exclude empty or all-NA columns when determining the result dtypes. To retain the old behavior, exclude the relevant entries before the concat operation.\n",
      "  final_df = pd.concat(all_data, ignore_index=True)\n",
      "C:\\Users\\pasqu\\AppData\\Local\\Temp\\ipykernel_6500\\71755803.py:48: FutureWarning: The behavior of DataFrame concatenation with empty or all-NA entries is deprecated. In a future version, this will no longer exclude empty or all-NA columns when determining the result dtypes. To retain the old behavior, exclude the relevant entries before the concat operation.\n",
      "  final_df = pd.concat(all_data, ignore_index=True)\n",
      "C:\\Users\\pasqu\\AppData\\Local\\Temp\\ipykernel_6500\\71755803.py:48: FutureWarning: The behavior of DataFrame concatenation with empty or all-NA entries is deprecated. In a future version, this will no longer exclude empty or all-NA columns when determining the result dtypes. To retain the old behavior, exclude the relevant entries before the concat operation.\n",
      "  final_df = pd.concat(all_data, ignore_index=True)\n",
      "C:\\Users\\pasqu\\AppData\\Local\\Temp\\ipykernel_6500\\71755803.py:48: FutureWarning: The behavior of DataFrame concatenation with empty or all-NA entries is deprecated. In a future version, this will no longer exclude empty or all-NA columns when determining the result dtypes. To retain the old behavior, exclude the relevant entries before the concat operation.\n",
      "  final_df = pd.concat(all_data, ignore_index=True)\n",
      "C:\\Users\\pasqu\\AppData\\Local\\Temp\\ipykernel_6500\\71755803.py:34: FutureWarning: The behavior of DataFrame concatenation with empty or all-NA entries is deprecated. In a future version, this will no longer exclude empty or all-NA columns when determining the result dtypes. To retain the old behavior, exclude the relevant entries before the concat operation.\n",
      "  final_df = pd.concat(all_data, ignore_index=True)\n"
     ]
    },
    {
     "name": "stdout",
     "output_type": "stream",
     "text": [
      "Processati 4220 utenti su 125602\n"
     ]
    },
    {
     "name": "stderr",
     "output_type": "stream",
     "text": [
      "C:\\Users\\pasqu\\AppData\\Local\\Temp\\ipykernel_6500\\71755803.py:34: FutureWarning: The behavior of DataFrame concatenation with empty or all-NA entries is deprecated. In a future version, this will no longer exclude empty or all-NA columns when determining the result dtypes. To retain the old behavior, exclude the relevant entries before the concat operation.\n",
      "  final_df = pd.concat(all_data, ignore_index=True)\n"
     ]
    },
    {
     "name": "stdout",
     "output_type": "stream",
     "text": [
      "Processati 4241 utenti su 125602\n"
     ]
    },
    {
     "name": "stderr",
     "output_type": "stream",
     "text": [
      "C:\\Users\\pasqu\\AppData\\Local\\Temp\\ipykernel_6500\\71755803.py:48: FutureWarning: The behavior of DataFrame concatenation with empty or all-NA entries is deprecated. In a future version, this will no longer exclude empty or all-NA columns when determining the result dtypes. To retain the old behavior, exclude the relevant entries before the concat operation.\n",
      "  final_df = pd.concat(all_data, ignore_index=True)\n",
      "C:\\Users\\pasqu\\AppData\\Local\\Temp\\ipykernel_6500\\71755803.py:48: FutureWarning: The behavior of DataFrame concatenation with empty or all-NA entries is deprecated. In a future version, this will no longer exclude empty or all-NA columns when determining the result dtypes. To retain the old behavior, exclude the relevant entries before the concat operation.\n",
      "  final_df = pd.concat(all_data, ignore_index=True)\n",
      "C:\\Users\\pasqu\\AppData\\Local\\Temp\\ipykernel_6500\\71755803.py:48: FutureWarning: The behavior of DataFrame concatenation with empty or all-NA entries is deprecated. In a future version, this will no longer exclude empty or all-NA columns when determining the result dtypes. To retain the old behavior, exclude the relevant entries before the concat operation.\n",
      "  final_df = pd.concat(all_data, ignore_index=True)\n",
      "C:\\Users\\pasqu\\AppData\\Local\\Temp\\ipykernel_6500\\71755803.py:48: FutureWarning: The behavior of DataFrame concatenation with empty or all-NA entries is deprecated. In a future version, this will no longer exclude empty or all-NA columns when determining the result dtypes. To retain the old behavior, exclude the relevant entries before the concat operation.\n",
      "  final_df = pd.concat(all_data, ignore_index=True)\n",
      "C:\\Users\\pasqu\\AppData\\Local\\Temp\\ipykernel_6500\\71755803.py:48: FutureWarning: The behavior of DataFrame concatenation with empty or all-NA entries is deprecated. In a future version, this will no longer exclude empty or all-NA columns when determining the result dtypes. To retain the old behavior, exclude the relevant entries before the concat operation.\n",
      "  final_df = pd.concat(all_data, ignore_index=True)\n",
      "C:\\Users\\pasqu\\AppData\\Local\\Temp\\ipykernel_6500\\71755803.py:34: FutureWarning: The behavior of DataFrame concatenation with empty or all-NA entries is deprecated. In a future version, this will no longer exclude empty or all-NA columns when determining the result dtypes. To retain the old behavior, exclude the relevant entries before the concat operation.\n",
      "  final_df = pd.concat(all_data, ignore_index=True)\n"
     ]
    },
    {
     "name": "stdout",
     "output_type": "stream",
     "text": [
      "Processati 4262 utenti su 125602\n"
     ]
    },
    {
     "name": "stderr",
     "output_type": "stream",
     "text": [
      "C:\\Users\\pasqu\\AppData\\Local\\Temp\\ipykernel_6500\\71755803.py:48: FutureWarning: The behavior of DataFrame concatenation with empty or all-NA entries is deprecated. In a future version, this will no longer exclude empty or all-NA columns when determining the result dtypes. To retain the old behavior, exclude the relevant entries before the concat operation.\n",
      "  final_df = pd.concat(all_data, ignore_index=True)\n",
      "C:\\Users\\pasqu\\AppData\\Local\\Temp\\ipykernel_6500\\71755803.py:48: FutureWarning: The behavior of DataFrame concatenation with empty or all-NA entries is deprecated. In a future version, this will no longer exclude empty or all-NA columns when determining the result dtypes. To retain the old behavior, exclude the relevant entries before the concat operation.\n",
      "  final_df = pd.concat(all_data, ignore_index=True)\n",
      "C:\\Users\\pasqu\\AppData\\Local\\Temp\\ipykernel_6500\\71755803.py:48: FutureWarning: The behavior of DataFrame concatenation with empty or all-NA entries is deprecated. In a future version, this will no longer exclude empty or all-NA columns when determining the result dtypes. To retain the old behavior, exclude the relevant entries before the concat operation.\n",
      "  final_df = pd.concat(all_data, ignore_index=True)\n",
      "C:\\Users\\pasqu\\AppData\\Local\\Temp\\ipykernel_6500\\71755803.py:34: FutureWarning: The behavior of DataFrame concatenation with empty or all-NA entries is deprecated. In a future version, this will no longer exclude empty or all-NA columns when determining the result dtypes. To retain the old behavior, exclude the relevant entries before the concat operation.\n",
      "  final_df = pd.concat(all_data, ignore_index=True)\n"
     ]
    },
    {
     "name": "stdout",
     "output_type": "stream",
     "text": [
      "Processati 4283 utenti su 125602\n"
     ]
    },
    {
     "name": "stderr",
     "output_type": "stream",
     "text": [
      "C:\\Users\\pasqu\\AppData\\Local\\Temp\\ipykernel_6500\\71755803.py:48: FutureWarning: The behavior of DataFrame concatenation with empty or all-NA entries is deprecated. In a future version, this will no longer exclude empty or all-NA columns when determining the result dtypes. To retain the old behavior, exclude the relevant entries before the concat operation.\n",
      "  final_df = pd.concat(all_data, ignore_index=True)\n",
      "C:\\Users\\pasqu\\AppData\\Local\\Temp\\ipykernel_6500\\71755803.py:48: FutureWarning: The behavior of DataFrame concatenation with empty or all-NA entries is deprecated. In a future version, this will no longer exclude empty or all-NA columns when determining the result dtypes. To retain the old behavior, exclude the relevant entries before the concat operation.\n",
      "  final_df = pd.concat(all_data, ignore_index=True)\n",
      "C:\\Users\\pasqu\\AppData\\Local\\Temp\\ipykernel_6500\\71755803.py:48: FutureWarning: The behavior of DataFrame concatenation with empty or all-NA entries is deprecated. In a future version, this will no longer exclude empty or all-NA columns when determining the result dtypes. To retain the old behavior, exclude the relevant entries before the concat operation.\n",
      "  final_df = pd.concat(all_data, ignore_index=True)\n",
      "C:\\Users\\pasqu\\AppData\\Local\\Temp\\ipykernel_6500\\71755803.py:48: FutureWarning: The behavior of DataFrame concatenation with empty or all-NA entries is deprecated. In a future version, this will no longer exclude empty or all-NA columns when determining the result dtypes. To retain the old behavior, exclude the relevant entries before the concat operation.\n",
      "  final_df = pd.concat(all_data, ignore_index=True)\n",
      "C:\\Users\\pasqu\\AppData\\Local\\Temp\\ipykernel_6500\\71755803.py:34: FutureWarning: The behavior of DataFrame concatenation with empty or all-NA entries is deprecated. In a future version, this will no longer exclude empty or all-NA columns when determining the result dtypes. To retain the old behavior, exclude the relevant entries before the concat operation.\n",
      "  final_df = pd.concat(all_data, ignore_index=True)\n"
     ]
    },
    {
     "name": "stdout",
     "output_type": "stream",
     "text": [
      "Processati 4304 utenti su 125602\n",
      "Processati 4325 utenti su 125602\n"
     ]
    },
    {
     "name": "stderr",
     "output_type": "stream",
     "text": [
      "C:\\Users\\pasqu\\AppData\\Local\\Temp\\ipykernel_6500\\71755803.py:48: FutureWarning: The behavior of DataFrame concatenation with empty or all-NA entries is deprecated. In a future version, this will no longer exclude empty or all-NA columns when determining the result dtypes. To retain the old behavior, exclude the relevant entries before the concat operation.\n",
      "  final_df = pd.concat(all_data, ignore_index=True)\n",
      "C:\\Users\\pasqu\\AppData\\Local\\Temp\\ipykernel_6500\\71755803.py:48: FutureWarning: The behavior of DataFrame concatenation with empty or all-NA entries is deprecated. In a future version, this will no longer exclude empty or all-NA columns when determining the result dtypes. To retain the old behavior, exclude the relevant entries before the concat operation.\n",
      "  final_df = pd.concat(all_data, ignore_index=True)\n",
      "C:\\Users\\pasqu\\AppData\\Local\\Temp\\ipykernel_6500\\71755803.py:48: FutureWarning: The behavior of DataFrame concatenation with empty or all-NA entries is deprecated. In a future version, this will no longer exclude empty or all-NA columns when determining the result dtypes. To retain the old behavior, exclude the relevant entries before the concat operation.\n",
      "  final_df = pd.concat(all_data, ignore_index=True)\n",
      "C:\\Users\\pasqu\\AppData\\Local\\Temp\\ipykernel_6500\\71755803.py:34: FutureWarning: The behavior of DataFrame concatenation with empty or all-NA entries is deprecated. In a future version, this will no longer exclude empty or all-NA columns when determining the result dtypes. To retain the old behavior, exclude the relevant entries before the concat operation.\n",
      "  final_df = pd.concat(all_data, ignore_index=True)\n"
     ]
    },
    {
     "name": "stdout",
     "output_type": "stream",
     "text": [
      "Processati 4346 utenti su 125602\n"
     ]
    },
    {
     "name": "stderr",
     "output_type": "stream",
     "text": [
      "C:\\Users\\pasqu\\AppData\\Local\\Temp\\ipykernel_6500\\71755803.py:48: FutureWarning: The behavior of DataFrame concatenation with empty or all-NA entries is deprecated. In a future version, this will no longer exclude empty or all-NA columns when determining the result dtypes. To retain the old behavior, exclude the relevant entries before the concat operation.\n",
      "  final_df = pd.concat(all_data, ignore_index=True)\n",
      "C:\\Users\\pasqu\\AppData\\Local\\Temp\\ipykernel_6500\\71755803.py:48: FutureWarning: The behavior of DataFrame concatenation with empty or all-NA entries is deprecated. In a future version, this will no longer exclude empty or all-NA columns when determining the result dtypes. To retain the old behavior, exclude the relevant entries before the concat operation.\n",
      "  final_df = pd.concat(all_data, ignore_index=True)\n",
      "C:\\Users\\pasqu\\AppData\\Local\\Temp\\ipykernel_6500\\71755803.py:48: FutureWarning: The behavior of DataFrame concatenation with empty or all-NA entries is deprecated. In a future version, this will no longer exclude empty or all-NA columns when determining the result dtypes. To retain the old behavior, exclude the relevant entries before the concat operation.\n",
      "  final_df = pd.concat(all_data, ignore_index=True)\n",
      "C:\\Users\\pasqu\\AppData\\Local\\Temp\\ipykernel_6500\\71755803.py:48: FutureWarning: The behavior of DataFrame concatenation with empty or all-NA entries is deprecated. In a future version, this will no longer exclude empty or all-NA columns when determining the result dtypes. To retain the old behavior, exclude the relevant entries before the concat operation.\n",
      "  final_df = pd.concat(all_data, ignore_index=True)\n",
      "C:\\Users\\pasqu\\AppData\\Local\\Temp\\ipykernel_6500\\71755803.py:48: FutureWarning: The behavior of DataFrame concatenation with empty or all-NA entries is deprecated. In a future version, this will no longer exclude empty or all-NA columns when determining the result dtypes. To retain the old behavior, exclude the relevant entries before the concat operation.\n",
      "  final_df = pd.concat(all_data, ignore_index=True)\n",
      "C:\\Users\\pasqu\\AppData\\Local\\Temp\\ipykernel_6500\\71755803.py:48: FutureWarning: The behavior of DataFrame concatenation with empty or all-NA entries is deprecated. In a future version, this will no longer exclude empty or all-NA columns when determining the result dtypes. To retain the old behavior, exclude the relevant entries before the concat operation.\n",
      "  final_df = pd.concat(all_data, ignore_index=True)\n",
      "C:\\Users\\pasqu\\AppData\\Local\\Temp\\ipykernel_6500\\71755803.py:48: FutureWarning: The behavior of DataFrame concatenation with empty or all-NA entries is deprecated. In a future version, this will no longer exclude empty or all-NA columns when determining the result dtypes. To retain the old behavior, exclude the relevant entries before the concat operation.\n",
      "  final_df = pd.concat(all_data, ignore_index=True)\n",
      "C:\\Users\\pasqu\\AppData\\Local\\Temp\\ipykernel_6500\\71755803.py:34: FutureWarning: The behavior of DataFrame concatenation with empty or all-NA entries is deprecated. In a future version, this will no longer exclude empty or all-NA columns when determining the result dtypes. To retain the old behavior, exclude the relevant entries before the concat operation.\n",
      "  final_df = pd.concat(all_data, ignore_index=True)\n"
     ]
    },
    {
     "name": "stdout",
     "output_type": "stream",
     "text": [
      "Processati 4367 utenti su 125602\n"
     ]
    },
    {
     "name": "stderr",
     "output_type": "stream",
     "text": [
      "C:\\Users\\pasqu\\AppData\\Local\\Temp\\ipykernel_6500\\71755803.py:48: FutureWarning: The behavior of DataFrame concatenation with empty or all-NA entries is deprecated. In a future version, this will no longer exclude empty or all-NA columns when determining the result dtypes. To retain the old behavior, exclude the relevant entries before the concat operation.\n",
      "  final_df = pd.concat(all_data, ignore_index=True)\n",
      "C:\\Users\\pasqu\\AppData\\Local\\Temp\\ipykernel_6500\\71755803.py:48: FutureWarning: The behavior of DataFrame concatenation with empty or all-NA entries is deprecated. In a future version, this will no longer exclude empty or all-NA columns when determining the result dtypes. To retain the old behavior, exclude the relevant entries before the concat operation.\n",
      "  final_df = pd.concat(all_data, ignore_index=True)\n",
      "C:\\Users\\pasqu\\AppData\\Local\\Temp\\ipykernel_6500\\71755803.py:48: FutureWarning: The behavior of DataFrame concatenation with empty or all-NA entries is deprecated. In a future version, this will no longer exclude empty or all-NA columns when determining the result dtypes. To retain the old behavior, exclude the relevant entries before the concat operation.\n",
      "  final_df = pd.concat(all_data, ignore_index=True)\n",
      "C:\\Users\\pasqu\\AppData\\Local\\Temp\\ipykernel_6500\\71755803.py:34: FutureWarning: The behavior of DataFrame concatenation with empty or all-NA entries is deprecated. In a future version, this will no longer exclude empty or all-NA columns when determining the result dtypes. To retain the old behavior, exclude the relevant entries before the concat operation.\n",
      "  final_df = pd.concat(all_data, ignore_index=True)\n"
     ]
    },
    {
     "name": "stdout",
     "output_type": "stream",
     "text": [
      "Processati 4388 utenti su 125602\n"
     ]
    },
    {
     "name": "stderr",
     "output_type": "stream",
     "text": [
      "C:\\Users\\pasqu\\AppData\\Local\\Temp\\ipykernel_6500\\71755803.py:48: FutureWarning: The behavior of DataFrame concatenation with empty or all-NA entries is deprecated. In a future version, this will no longer exclude empty or all-NA columns when determining the result dtypes. To retain the old behavior, exclude the relevant entries before the concat operation.\n",
      "  final_df = pd.concat(all_data, ignore_index=True)\n",
      "C:\\Users\\pasqu\\AppData\\Local\\Temp\\ipykernel_6500\\71755803.py:48: FutureWarning: The behavior of DataFrame concatenation with empty or all-NA entries is deprecated. In a future version, this will no longer exclude empty or all-NA columns when determining the result dtypes. To retain the old behavior, exclude the relevant entries before the concat operation.\n",
      "  final_df = pd.concat(all_data, ignore_index=True)\n",
      "C:\\Users\\pasqu\\AppData\\Local\\Temp\\ipykernel_6500\\71755803.py:48: FutureWarning: The behavior of DataFrame concatenation with empty or all-NA entries is deprecated. In a future version, this will no longer exclude empty or all-NA columns when determining the result dtypes. To retain the old behavior, exclude the relevant entries before the concat operation.\n",
      "  final_df = pd.concat(all_data, ignore_index=True)\n",
      "C:\\Users\\pasqu\\AppData\\Local\\Temp\\ipykernel_6500\\71755803.py:48: FutureWarning: The behavior of DataFrame concatenation with empty or all-NA entries is deprecated. In a future version, this will no longer exclude empty or all-NA columns when determining the result dtypes. To retain the old behavior, exclude the relevant entries before the concat operation.\n",
      "  final_df = pd.concat(all_data, ignore_index=True)\n",
      "C:\\Users\\pasqu\\AppData\\Local\\Temp\\ipykernel_6500\\71755803.py:48: FutureWarning: The behavior of DataFrame concatenation with empty or all-NA entries is deprecated. In a future version, this will no longer exclude empty or all-NA columns when determining the result dtypes. To retain the old behavior, exclude the relevant entries before the concat operation.\n",
      "  final_df = pd.concat(all_data, ignore_index=True)\n",
      "C:\\Users\\pasqu\\AppData\\Local\\Temp\\ipykernel_6500\\71755803.py:48: FutureWarning: The behavior of DataFrame concatenation with empty or all-NA entries is deprecated. In a future version, this will no longer exclude empty or all-NA columns when determining the result dtypes. To retain the old behavior, exclude the relevant entries before the concat operation.\n",
      "  final_df = pd.concat(all_data, ignore_index=True)\n",
      "C:\\Users\\pasqu\\AppData\\Local\\Temp\\ipykernel_6500\\71755803.py:48: FutureWarning: The behavior of DataFrame concatenation with empty or all-NA entries is deprecated. In a future version, this will no longer exclude empty or all-NA columns when determining the result dtypes. To retain the old behavior, exclude the relevant entries before the concat operation.\n",
      "  final_df = pd.concat(all_data, ignore_index=True)\n",
      "C:\\Users\\pasqu\\AppData\\Local\\Temp\\ipykernel_6500\\71755803.py:34: FutureWarning: The behavior of DataFrame concatenation with empty or all-NA entries is deprecated. In a future version, this will no longer exclude empty or all-NA columns when determining the result dtypes. To retain the old behavior, exclude the relevant entries before the concat operation.\n",
      "  final_df = pd.concat(all_data, ignore_index=True)\n"
     ]
    },
    {
     "name": "stdout",
     "output_type": "stream",
     "text": [
      "Processati 4409 utenti su 125602\n"
     ]
    },
    {
     "name": "stderr",
     "output_type": "stream",
     "text": [
      "C:\\Users\\pasqu\\AppData\\Local\\Temp\\ipykernel_6500\\71755803.py:48: FutureWarning: The behavior of DataFrame concatenation with empty or all-NA entries is deprecated. In a future version, this will no longer exclude empty or all-NA columns when determining the result dtypes. To retain the old behavior, exclude the relevant entries before the concat operation.\n",
      "  final_df = pd.concat(all_data, ignore_index=True)\n",
      "C:\\Users\\pasqu\\AppData\\Local\\Temp\\ipykernel_6500\\71755803.py:48: FutureWarning: The behavior of DataFrame concatenation with empty or all-NA entries is deprecated. In a future version, this will no longer exclude empty or all-NA columns when determining the result dtypes. To retain the old behavior, exclude the relevant entries before the concat operation.\n",
      "  final_df = pd.concat(all_data, ignore_index=True)\n",
      "C:\\Users\\pasqu\\AppData\\Local\\Temp\\ipykernel_6500\\71755803.py:48: FutureWarning: The behavior of DataFrame concatenation with empty or all-NA entries is deprecated. In a future version, this will no longer exclude empty or all-NA columns when determining the result dtypes. To retain the old behavior, exclude the relevant entries before the concat operation.\n",
      "  final_df = pd.concat(all_data, ignore_index=True)\n",
      "C:\\Users\\pasqu\\AppData\\Local\\Temp\\ipykernel_6500\\71755803.py:48: FutureWarning: The behavior of DataFrame concatenation with empty or all-NA entries is deprecated. In a future version, this will no longer exclude empty or all-NA columns when determining the result dtypes. To retain the old behavior, exclude the relevant entries before the concat operation.\n",
      "  final_df = pd.concat(all_data, ignore_index=True)\n",
      "C:\\Users\\pasqu\\AppData\\Local\\Temp\\ipykernel_6500\\71755803.py:48: FutureWarning: The behavior of DataFrame concatenation with empty or all-NA entries is deprecated. In a future version, this will no longer exclude empty or all-NA columns when determining the result dtypes. To retain the old behavior, exclude the relevant entries before the concat operation.\n",
      "  final_df = pd.concat(all_data, ignore_index=True)\n",
      "C:\\Users\\pasqu\\AppData\\Local\\Temp\\ipykernel_6500\\71755803.py:34: FutureWarning: The behavior of DataFrame concatenation with empty or all-NA entries is deprecated. In a future version, this will no longer exclude empty or all-NA columns when determining the result dtypes. To retain the old behavior, exclude the relevant entries before the concat operation.\n",
      "  final_df = pd.concat(all_data, ignore_index=True)\n"
     ]
    },
    {
     "name": "stdout",
     "output_type": "stream",
     "text": [
      "Processati 4430 utenti su 125602\n"
     ]
    },
    {
     "name": "stderr",
     "output_type": "stream",
     "text": [
      "C:\\Users\\pasqu\\AppData\\Local\\Temp\\ipykernel_6500\\71755803.py:48: FutureWarning: The behavior of DataFrame concatenation with empty or all-NA entries is deprecated. In a future version, this will no longer exclude empty or all-NA columns when determining the result dtypes. To retain the old behavior, exclude the relevant entries before the concat operation.\n",
      "  final_df = pd.concat(all_data, ignore_index=True)\n",
      "C:\\Users\\pasqu\\AppData\\Local\\Temp\\ipykernel_6500\\71755803.py:48: FutureWarning: The behavior of DataFrame concatenation with empty or all-NA entries is deprecated. In a future version, this will no longer exclude empty or all-NA columns when determining the result dtypes. To retain the old behavior, exclude the relevant entries before the concat operation.\n",
      "  final_df = pd.concat(all_data, ignore_index=True)\n",
      "C:\\Users\\pasqu\\AppData\\Local\\Temp\\ipykernel_6500\\71755803.py:48: FutureWarning: The behavior of DataFrame concatenation with empty or all-NA entries is deprecated. In a future version, this will no longer exclude empty or all-NA columns when determining the result dtypes. To retain the old behavior, exclude the relevant entries before the concat operation.\n",
      "  final_df = pd.concat(all_data, ignore_index=True)\n",
      "C:\\Users\\pasqu\\AppData\\Local\\Temp\\ipykernel_6500\\71755803.py:48: FutureWarning: The behavior of DataFrame concatenation with empty or all-NA entries is deprecated. In a future version, this will no longer exclude empty or all-NA columns when determining the result dtypes. To retain the old behavior, exclude the relevant entries before the concat operation.\n",
      "  final_df = pd.concat(all_data, ignore_index=True)\n",
      "C:\\Users\\pasqu\\AppData\\Local\\Temp\\ipykernel_6500\\71755803.py:48: FutureWarning: The behavior of DataFrame concatenation with empty or all-NA entries is deprecated. In a future version, this will no longer exclude empty or all-NA columns when determining the result dtypes. To retain the old behavior, exclude the relevant entries before the concat operation.\n",
      "  final_df = pd.concat(all_data, ignore_index=True)\n",
      "C:\\Users\\pasqu\\AppData\\Local\\Temp\\ipykernel_6500\\71755803.py:48: FutureWarning: The behavior of DataFrame concatenation with empty or all-NA entries is deprecated. In a future version, this will no longer exclude empty or all-NA columns when determining the result dtypes. To retain the old behavior, exclude the relevant entries before the concat operation.\n",
      "  final_df = pd.concat(all_data, ignore_index=True)\n",
      "C:\\Users\\pasqu\\AppData\\Local\\Temp\\ipykernel_6500\\71755803.py:34: FutureWarning: The behavior of DataFrame concatenation with empty or all-NA entries is deprecated. In a future version, this will no longer exclude empty or all-NA columns when determining the result dtypes. To retain the old behavior, exclude the relevant entries before the concat operation.\n",
      "  final_df = pd.concat(all_data, ignore_index=True)\n"
     ]
    },
    {
     "name": "stdout",
     "output_type": "stream",
     "text": [
      "Processati 4451 utenti su 125602\n"
     ]
    },
    {
     "name": "stderr",
     "output_type": "stream",
     "text": [
      "C:\\Users\\pasqu\\AppData\\Local\\Temp\\ipykernel_6500\\71755803.py:48: FutureWarning: The behavior of DataFrame concatenation with empty or all-NA entries is deprecated. In a future version, this will no longer exclude empty or all-NA columns when determining the result dtypes. To retain the old behavior, exclude the relevant entries before the concat operation.\n",
      "  final_df = pd.concat(all_data, ignore_index=True)\n",
      "C:\\Users\\pasqu\\AppData\\Local\\Temp\\ipykernel_6500\\71755803.py:48: FutureWarning: The behavior of DataFrame concatenation with empty or all-NA entries is deprecated. In a future version, this will no longer exclude empty or all-NA columns when determining the result dtypes. To retain the old behavior, exclude the relevant entries before the concat operation.\n",
      "  final_df = pd.concat(all_data, ignore_index=True)\n",
      "C:\\Users\\pasqu\\AppData\\Local\\Temp\\ipykernel_6500\\71755803.py:34: FutureWarning: The behavior of DataFrame concatenation with empty or all-NA entries is deprecated. In a future version, this will no longer exclude empty or all-NA columns when determining the result dtypes. To retain the old behavior, exclude the relevant entries before the concat operation.\n",
      "  final_df = pd.concat(all_data, ignore_index=True)\n"
     ]
    },
    {
     "name": "stdout",
     "output_type": "stream",
     "text": [
      "Processati 4472 utenti su 125602\n"
     ]
    },
    {
     "name": "stderr",
     "output_type": "stream",
     "text": [
      "C:\\Users\\pasqu\\AppData\\Local\\Temp\\ipykernel_6500\\71755803.py:48: FutureWarning: The behavior of DataFrame concatenation with empty or all-NA entries is deprecated. In a future version, this will no longer exclude empty or all-NA columns when determining the result dtypes. To retain the old behavior, exclude the relevant entries before the concat operation.\n",
      "  final_df = pd.concat(all_data, ignore_index=True)\n",
      "C:\\Users\\pasqu\\AppData\\Local\\Temp\\ipykernel_6500\\71755803.py:48: FutureWarning: The behavior of DataFrame concatenation with empty or all-NA entries is deprecated. In a future version, this will no longer exclude empty or all-NA columns when determining the result dtypes. To retain the old behavior, exclude the relevant entries before the concat operation.\n",
      "  final_df = pd.concat(all_data, ignore_index=True)\n",
      "C:\\Users\\pasqu\\AppData\\Local\\Temp\\ipykernel_6500\\71755803.py:48: FutureWarning: The behavior of DataFrame concatenation with empty or all-NA entries is deprecated. In a future version, this will no longer exclude empty or all-NA columns when determining the result dtypes. To retain the old behavior, exclude the relevant entries before the concat operation.\n",
      "  final_df = pd.concat(all_data, ignore_index=True)\n",
      "C:\\Users\\pasqu\\AppData\\Local\\Temp\\ipykernel_6500\\71755803.py:34: FutureWarning: The behavior of DataFrame concatenation with empty or all-NA entries is deprecated. In a future version, this will no longer exclude empty or all-NA columns when determining the result dtypes. To retain the old behavior, exclude the relevant entries before the concat operation.\n",
      "  final_df = pd.concat(all_data, ignore_index=True)\n"
     ]
    },
    {
     "name": "stdout",
     "output_type": "stream",
     "text": [
      "Processati 4493 utenti su 125602\n"
     ]
    },
    {
     "name": "stderr",
     "output_type": "stream",
     "text": [
      "C:\\Users\\pasqu\\AppData\\Local\\Temp\\ipykernel_6500\\71755803.py:48: FutureWarning: The behavior of DataFrame concatenation with empty or all-NA entries is deprecated. In a future version, this will no longer exclude empty or all-NA columns when determining the result dtypes. To retain the old behavior, exclude the relevant entries before the concat operation.\n",
      "  final_df = pd.concat(all_data, ignore_index=True)\n",
      "C:\\Users\\pasqu\\AppData\\Local\\Temp\\ipykernel_6500\\71755803.py:48: FutureWarning: The behavior of DataFrame concatenation with empty or all-NA entries is deprecated. In a future version, this will no longer exclude empty or all-NA columns when determining the result dtypes. To retain the old behavior, exclude the relevant entries before the concat operation.\n",
      "  final_df = pd.concat(all_data, ignore_index=True)\n",
      "C:\\Users\\pasqu\\AppData\\Local\\Temp\\ipykernel_6500\\71755803.py:48: FutureWarning: The behavior of DataFrame concatenation with empty or all-NA entries is deprecated. In a future version, this will no longer exclude empty or all-NA columns when determining the result dtypes. To retain the old behavior, exclude the relevant entries before the concat operation.\n",
      "  final_df = pd.concat(all_data, ignore_index=True)\n",
      "C:\\Users\\pasqu\\AppData\\Local\\Temp\\ipykernel_6500\\71755803.py:48: FutureWarning: The behavior of DataFrame concatenation with empty or all-NA entries is deprecated. In a future version, this will no longer exclude empty or all-NA columns when determining the result dtypes. To retain the old behavior, exclude the relevant entries before the concat operation.\n",
      "  final_df = pd.concat(all_data, ignore_index=True)\n",
      "C:\\Users\\pasqu\\AppData\\Local\\Temp\\ipykernel_6500\\71755803.py:48: FutureWarning: The behavior of DataFrame concatenation with empty or all-NA entries is deprecated. In a future version, this will no longer exclude empty or all-NA columns when determining the result dtypes. To retain the old behavior, exclude the relevant entries before the concat operation.\n",
      "  final_df = pd.concat(all_data, ignore_index=True)\n",
      "C:\\Users\\pasqu\\AppData\\Local\\Temp\\ipykernel_6500\\71755803.py:48: FutureWarning: The behavior of DataFrame concatenation with empty or all-NA entries is deprecated. In a future version, this will no longer exclude empty or all-NA columns when determining the result dtypes. To retain the old behavior, exclude the relevant entries before the concat operation.\n",
      "  final_df = pd.concat(all_data, ignore_index=True)\n",
      "C:\\Users\\pasqu\\AppData\\Local\\Temp\\ipykernel_6500\\71755803.py:34: FutureWarning: The behavior of DataFrame concatenation with empty or all-NA entries is deprecated. In a future version, this will no longer exclude empty or all-NA columns when determining the result dtypes. To retain the old behavior, exclude the relevant entries before the concat operation.\n",
      "  final_df = pd.concat(all_data, ignore_index=True)\n"
     ]
    },
    {
     "name": "stdout",
     "output_type": "stream",
     "text": [
      "Processati 4514 utenti su 125602\n"
     ]
    },
    {
     "name": "stderr",
     "output_type": "stream",
     "text": [
      "C:\\Users\\pasqu\\AppData\\Local\\Temp\\ipykernel_6500\\71755803.py:48: FutureWarning: The behavior of DataFrame concatenation with empty or all-NA entries is deprecated. In a future version, this will no longer exclude empty or all-NA columns when determining the result dtypes. To retain the old behavior, exclude the relevant entries before the concat operation.\n",
      "  final_df = pd.concat(all_data, ignore_index=True)\n",
      "C:\\Users\\pasqu\\AppData\\Local\\Temp\\ipykernel_6500\\71755803.py:48: FutureWarning: The behavior of DataFrame concatenation with empty or all-NA entries is deprecated. In a future version, this will no longer exclude empty or all-NA columns when determining the result dtypes. To retain the old behavior, exclude the relevant entries before the concat operation.\n",
      "  final_df = pd.concat(all_data, ignore_index=True)\n",
      "C:\\Users\\pasqu\\AppData\\Local\\Temp\\ipykernel_6500\\71755803.py:48: FutureWarning: The behavior of DataFrame concatenation with empty or all-NA entries is deprecated. In a future version, this will no longer exclude empty or all-NA columns when determining the result dtypes. To retain the old behavior, exclude the relevant entries before the concat operation.\n",
      "  final_df = pd.concat(all_data, ignore_index=True)\n",
      "C:\\Users\\pasqu\\AppData\\Local\\Temp\\ipykernel_6500\\71755803.py:48: FutureWarning: The behavior of DataFrame concatenation with empty or all-NA entries is deprecated. In a future version, this will no longer exclude empty or all-NA columns when determining the result dtypes. To retain the old behavior, exclude the relevant entries before the concat operation.\n",
      "  final_df = pd.concat(all_data, ignore_index=True)\n",
      "C:\\Users\\pasqu\\AppData\\Local\\Temp\\ipykernel_6500\\71755803.py:48: FutureWarning: The behavior of DataFrame concatenation with empty or all-NA entries is deprecated. In a future version, this will no longer exclude empty or all-NA columns when determining the result dtypes. To retain the old behavior, exclude the relevant entries before the concat operation.\n",
      "  final_df = pd.concat(all_data, ignore_index=True)\n",
      "C:\\Users\\pasqu\\AppData\\Local\\Temp\\ipykernel_6500\\71755803.py:34: FutureWarning: The behavior of DataFrame concatenation with empty or all-NA entries is deprecated. In a future version, this will no longer exclude empty or all-NA columns when determining the result dtypes. To retain the old behavior, exclude the relevant entries before the concat operation.\n",
      "  final_df = pd.concat(all_data, ignore_index=True)\n"
     ]
    },
    {
     "name": "stdout",
     "output_type": "stream",
     "text": [
      "Processati 4535 utenti su 125602\n"
     ]
    },
    {
     "name": "stderr",
     "output_type": "stream",
     "text": [
      "C:\\Users\\pasqu\\AppData\\Local\\Temp\\ipykernel_6500\\71755803.py:48: FutureWarning: The behavior of DataFrame concatenation with empty or all-NA entries is deprecated. In a future version, this will no longer exclude empty or all-NA columns when determining the result dtypes. To retain the old behavior, exclude the relevant entries before the concat operation.\n",
      "  final_df = pd.concat(all_data, ignore_index=True)\n",
      "C:\\Users\\pasqu\\AppData\\Local\\Temp\\ipykernel_6500\\71755803.py:48: FutureWarning: The behavior of DataFrame concatenation with empty or all-NA entries is deprecated. In a future version, this will no longer exclude empty or all-NA columns when determining the result dtypes. To retain the old behavior, exclude the relevant entries before the concat operation.\n",
      "  final_df = pd.concat(all_data, ignore_index=True)\n",
      "C:\\Users\\pasqu\\AppData\\Local\\Temp\\ipykernel_6500\\71755803.py:48: FutureWarning: The behavior of DataFrame concatenation with empty or all-NA entries is deprecated. In a future version, this will no longer exclude empty or all-NA columns when determining the result dtypes. To retain the old behavior, exclude the relevant entries before the concat operation.\n",
      "  final_df = pd.concat(all_data, ignore_index=True)\n",
      "C:\\Users\\pasqu\\AppData\\Local\\Temp\\ipykernel_6500\\71755803.py:48: FutureWarning: The behavior of DataFrame concatenation with empty or all-NA entries is deprecated. In a future version, this will no longer exclude empty or all-NA columns when determining the result dtypes. To retain the old behavior, exclude the relevant entries before the concat operation.\n",
      "  final_df = pd.concat(all_data, ignore_index=True)\n",
      "C:\\Users\\pasqu\\AppData\\Local\\Temp\\ipykernel_6500\\71755803.py:34: FutureWarning: The behavior of DataFrame concatenation with empty or all-NA entries is deprecated. In a future version, this will no longer exclude empty or all-NA columns when determining the result dtypes. To retain the old behavior, exclude the relevant entries before the concat operation.\n",
      "  final_df = pd.concat(all_data, ignore_index=True)\n"
     ]
    },
    {
     "name": "stdout",
     "output_type": "stream",
     "text": [
      "Processati 4556 utenti su 125602\n"
     ]
    },
    {
     "name": "stderr",
     "output_type": "stream",
     "text": [
      "C:\\Users\\pasqu\\AppData\\Local\\Temp\\ipykernel_6500\\71755803.py:48: FutureWarning: The behavior of DataFrame concatenation with empty or all-NA entries is deprecated. In a future version, this will no longer exclude empty or all-NA columns when determining the result dtypes. To retain the old behavior, exclude the relevant entries before the concat operation.\n",
      "  final_df = pd.concat(all_data, ignore_index=True)\n",
      "C:\\Users\\pasqu\\AppData\\Local\\Temp\\ipykernel_6500\\71755803.py:48: FutureWarning: The behavior of DataFrame concatenation with empty or all-NA entries is deprecated. In a future version, this will no longer exclude empty or all-NA columns when determining the result dtypes. To retain the old behavior, exclude the relevant entries before the concat operation.\n",
      "  final_df = pd.concat(all_data, ignore_index=True)\n",
      "C:\\Users\\pasqu\\AppData\\Local\\Temp\\ipykernel_6500\\71755803.py:34: FutureWarning: The behavior of DataFrame concatenation with empty or all-NA entries is deprecated. In a future version, this will no longer exclude empty or all-NA columns when determining the result dtypes. To retain the old behavior, exclude the relevant entries before the concat operation.\n",
      "  final_df = pd.concat(all_data, ignore_index=True)\n"
     ]
    },
    {
     "name": "stdout",
     "output_type": "stream",
     "text": [
      "Processati 4577 utenti su 125602\n"
     ]
    },
    {
     "name": "stderr",
     "output_type": "stream",
     "text": [
      "C:\\Users\\pasqu\\AppData\\Local\\Temp\\ipykernel_6500\\71755803.py:48: FutureWarning: The behavior of DataFrame concatenation with empty or all-NA entries is deprecated. In a future version, this will no longer exclude empty or all-NA columns when determining the result dtypes. To retain the old behavior, exclude the relevant entries before the concat operation.\n",
      "  final_df = pd.concat(all_data, ignore_index=True)\n",
      "C:\\Users\\pasqu\\AppData\\Local\\Temp\\ipykernel_6500\\71755803.py:48: FutureWarning: The behavior of DataFrame concatenation with empty or all-NA entries is deprecated. In a future version, this will no longer exclude empty or all-NA columns when determining the result dtypes. To retain the old behavior, exclude the relevant entries before the concat operation.\n",
      "  final_df = pd.concat(all_data, ignore_index=True)\n",
      "C:\\Users\\pasqu\\AppData\\Local\\Temp\\ipykernel_6500\\71755803.py:48: FutureWarning: The behavior of DataFrame concatenation with empty or all-NA entries is deprecated. In a future version, this will no longer exclude empty or all-NA columns when determining the result dtypes. To retain the old behavior, exclude the relevant entries before the concat operation.\n",
      "  final_df = pd.concat(all_data, ignore_index=True)\n",
      "C:\\Users\\pasqu\\AppData\\Local\\Temp\\ipykernel_6500\\71755803.py:48: FutureWarning: The behavior of DataFrame concatenation with empty or all-NA entries is deprecated. In a future version, this will no longer exclude empty or all-NA columns when determining the result dtypes. To retain the old behavior, exclude the relevant entries before the concat operation.\n",
      "  final_df = pd.concat(all_data, ignore_index=True)\n",
      "C:\\Users\\pasqu\\AppData\\Local\\Temp\\ipykernel_6500\\71755803.py:48: FutureWarning: The behavior of DataFrame concatenation with empty or all-NA entries is deprecated. In a future version, this will no longer exclude empty or all-NA columns when determining the result dtypes. To retain the old behavior, exclude the relevant entries before the concat operation.\n",
      "  final_df = pd.concat(all_data, ignore_index=True)\n",
      "C:\\Users\\pasqu\\AppData\\Local\\Temp\\ipykernel_6500\\71755803.py:48: FutureWarning: The behavior of DataFrame concatenation with empty or all-NA entries is deprecated. In a future version, this will no longer exclude empty or all-NA columns when determining the result dtypes. To retain the old behavior, exclude the relevant entries before the concat operation.\n",
      "  final_df = pd.concat(all_data, ignore_index=True)\n",
      "C:\\Users\\pasqu\\AppData\\Local\\Temp\\ipykernel_6500\\71755803.py:34: FutureWarning: The behavior of DataFrame concatenation with empty or all-NA entries is deprecated. In a future version, this will no longer exclude empty or all-NA columns when determining the result dtypes. To retain the old behavior, exclude the relevant entries before the concat operation.\n",
      "  final_df = pd.concat(all_data, ignore_index=True)\n"
     ]
    },
    {
     "name": "stdout",
     "output_type": "stream",
     "text": [
      "Processati 4598 utenti su 125602\n"
     ]
    },
    {
     "name": "stderr",
     "output_type": "stream",
     "text": [
      "C:\\Users\\pasqu\\AppData\\Local\\Temp\\ipykernel_6500\\71755803.py:48: FutureWarning: The behavior of DataFrame concatenation with empty or all-NA entries is deprecated. In a future version, this will no longer exclude empty or all-NA columns when determining the result dtypes. To retain the old behavior, exclude the relevant entries before the concat operation.\n",
      "  final_df = pd.concat(all_data, ignore_index=True)\n",
      "C:\\Users\\pasqu\\AppData\\Local\\Temp\\ipykernel_6500\\71755803.py:48: FutureWarning: The behavior of DataFrame concatenation with empty or all-NA entries is deprecated. In a future version, this will no longer exclude empty or all-NA columns when determining the result dtypes. To retain the old behavior, exclude the relevant entries before the concat operation.\n",
      "  final_df = pd.concat(all_data, ignore_index=True)\n",
      "C:\\Users\\pasqu\\AppData\\Local\\Temp\\ipykernel_6500\\71755803.py:48: FutureWarning: The behavior of DataFrame concatenation with empty or all-NA entries is deprecated. In a future version, this will no longer exclude empty or all-NA columns when determining the result dtypes. To retain the old behavior, exclude the relevant entries before the concat operation.\n",
      "  final_df = pd.concat(all_data, ignore_index=True)\n",
      "C:\\Users\\pasqu\\AppData\\Local\\Temp\\ipykernel_6500\\71755803.py:48: FutureWarning: The behavior of DataFrame concatenation with empty or all-NA entries is deprecated. In a future version, this will no longer exclude empty or all-NA columns when determining the result dtypes. To retain the old behavior, exclude the relevant entries before the concat operation.\n",
      "  final_df = pd.concat(all_data, ignore_index=True)\n",
      "C:\\Users\\pasqu\\AppData\\Local\\Temp\\ipykernel_6500\\71755803.py:48: FutureWarning: The behavior of DataFrame concatenation with empty or all-NA entries is deprecated. In a future version, this will no longer exclude empty or all-NA columns when determining the result dtypes. To retain the old behavior, exclude the relevant entries before the concat operation.\n",
      "  final_df = pd.concat(all_data, ignore_index=True)\n",
      "C:\\Users\\pasqu\\AppData\\Local\\Temp\\ipykernel_6500\\71755803.py:48: FutureWarning: The behavior of DataFrame concatenation with empty or all-NA entries is deprecated. In a future version, this will no longer exclude empty or all-NA columns when determining the result dtypes. To retain the old behavior, exclude the relevant entries before the concat operation.\n",
      "  final_df = pd.concat(all_data, ignore_index=True)\n",
      "C:\\Users\\pasqu\\AppData\\Local\\Temp\\ipykernel_6500\\71755803.py:48: FutureWarning: The behavior of DataFrame concatenation with empty or all-NA entries is deprecated. In a future version, this will no longer exclude empty or all-NA columns when determining the result dtypes. To retain the old behavior, exclude the relevant entries before the concat operation.\n",
      "  final_df = pd.concat(all_data, ignore_index=True)\n",
      "C:\\Users\\pasqu\\AppData\\Local\\Temp\\ipykernel_6500\\71755803.py:48: FutureWarning: The behavior of DataFrame concatenation with empty or all-NA entries is deprecated. In a future version, this will no longer exclude empty or all-NA columns when determining the result dtypes. To retain the old behavior, exclude the relevant entries before the concat operation.\n",
      "  final_df = pd.concat(all_data, ignore_index=True)\n",
      "C:\\Users\\pasqu\\AppData\\Local\\Temp\\ipykernel_6500\\71755803.py:48: FutureWarning: The behavior of DataFrame concatenation with empty or all-NA entries is deprecated. In a future version, this will no longer exclude empty or all-NA columns when determining the result dtypes. To retain the old behavior, exclude the relevant entries before the concat operation.\n",
      "  final_df = pd.concat(all_data, ignore_index=True)\n",
      "C:\\Users\\pasqu\\AppData\\Local\\Temp\\ipykernel_6500\\71755803.py:48: FutureWarning: The behavior of DataFrame concatenation with empty or all-NA entries is deprecated. In a future version, this will no longer exclude empty or all-NA columns when determining the result dtypes. To retain the old behavior, exclude the relevant entries before the concat operation.\n",
      "  final_df = pd.concat(all_data, ignore_index=True)\n",
      "C:\\Users\\pasqu\\AppData\\Local\\Temp\\ipykernel_6500\\71755803.py:34: FutureWarning: The behavior of DataFrame concatenation with empty or all-NA entries is deprecated. In a future version, this will no longer exclude empty or all-NA columns when determining the result dtypes. To retain the old behavior, exclude the relevant entries before the concat operation.\n",
      "  final_df = pd.concat(all_data, ignore_index=True)\n"
     ]
    },
    {
     "name": "stdout",
     "output_type": "stream",
     "text": [
      "Processati 4619 utenti su 125602\n"
     ]
    },
    {
     "name": "stderr",
     "output_type": "stream",
     "text": [
      "C:\\Users\\pasqu\\AppData\\Local\\Temp\\ipykernel_6500\\71755803.py:48: FutureWarning: The behavior of DataFrame concatenation with empty or all-NA entries is deprecated. In a future version, this will no longer exclude empty or all-NA columns when determining the result dtypes. To retain the old behavior, exclude the relevant entries before the concat operation.\n",
      "  final_df = pd.concat(all_data, ignore_index=True)\n",
      "C:\\Users\\pasqu\\AppData\\Local\\Temp\\ipykernel_6500\\71755803.py:48: FutureWarning: The behavior of DataFrame concatenation with empty or all-NA entries is deprecated. In a future version, this will no longer exclude empty or all-NA columns when determining the result dtypes. To retain the old behavior, exclude the relevant entries before the concat operation.\n",
      "  final_df = pd.concat(all_data, ignore_index=True)\n",
      "C:\\Users\\pasqu\\AppData\\Local\\Temp\\ipykernel_6500\\71755803.py:48: FutureWarning: The behavior of DataFrame concatenation with empty or all-NA entries is deprecated. In a future version, this will no longer exclude empty or all-NA columns when determining the result dtypes. To retain the old behavior, exclude the relevant entries before the concat operation.\n",
      "  final_df = pd.concat(all_data, ignore_index=True)\n",
      "C:\\Users\\pasqu\\AppData\\Local\\Temp\\ipykernel_6500\\71755803.py:34: FutureWarning: The behavior of DataFrame concatenation with empty or all-NA entries is deprecated. In a future version, this will no longer exclude empty or all-NA columns when determining the result dtypes. To retain the old behavior, exclude the relevant entries before the concat operation.\n",
      "  final_df = pd.concat(all_data, ignore_index=True)\n"
     ]
    },
    {
     "name": "stdout",
     "output_type": "stream",
     "text": [
      "Processati 4640 utenti su 125602\n",
      "Processati 4661 utenti su 125602\n"
     ]
    },
    {
     "name": "stderr",
     "output_type": "stream",
     "text": [
      "C:\\Users\\pasqu\\AppData\\Local\\Temp\\ipykernel_6500\\71755803.py:48: FutureWarning: The behavior of DataFrame concatenation with empty or all-NA entries is deprecated. In a future version, this will no longer exclude empty or all-NA columns when determining the result dtypes. To retain the old behavior, exclude the relevant entries before the concat operation.\n",
      "  final_df = pd.concat(all_data, ignore_index=True)\n",
      "C:\\Users\\pasqu\\AppData\\Local\\Temp\\ipykernel_6500\\71755803.py:48: FutureWarning: The behavior of DataFrame concatenation with empty or all-NA entries is deprecated. In a future version, this will no longer exclude empty or all-NA columns when determining the result dtypes. To retain the old behavior, exclude the relevant entries before the concat operation.\n",
      "  final_df = pd.concat(all_data, ignore_index=True)\n",
      "C:\\Users\\pasqu\\AppData\\Local\\Temp\\ipykernel_6500\\71755803.py:34: FutureWarning: The behavior of DataFrame concatenation with empty or all-NA entries is deprecated. In a future version, this will no longer exclude empty or all-NA columns when determining the result dtypes. To retain the old behavior, exclude the relevant entries before the concat operation.\n",
      "  final_df = pd.concat(all_data, ignore_index=True)\n"
     ]
    },
    {
     "name": "stdout",
     "output_type": "stream",
     "text": [
      "Processati 4682 utenti su 125602\n"
     ]
    },
    {
     "name": "stderr",
     "output_type": "stream",
     "text": [
      "C:\\Users\\pasqu\\AppData\\Local\\Temp\\ipykernel_6500\\71755803.py:48: FutureWarning: The behavior of DataFrame concatenation with empty or all-NA entries is deprecated. In a future version, this will no longer exclude empty or all-NA columns when determining the result dtypes. To retain the old behavior, exclude the relevant entries before the concat operation.\n",
      "  final_df = pd.concat(all_data, ignore_index=True)\n",
      "C:\\Users\\pasqu\\AppData\\Local\\Temp\\ipykernel_6500\\71755803.py:34: FutureWarning: The behavior of DataFrame concatenation with empty or all-NA entries is deprecated. In a future version, this will no longer exclude empty or all-NA columns when determining the result dtypes. To retain the old behavior, exclude the relevant entries before the concat operation.\n",
      "  final_df = pd.concat(all_data, ignore_index=True)\n"
     ]
    },
    {
     "name": "stdout",
     "output_type": "stream",
     "text": [
      "Processati 4703 utenti su 125602\n"
     ]
    },
    {
     "name": "stderr",
     "output_type": "stream",
     "text": [
      "C:\\Users\\pasqu\\AppData\\Local\\Temp\\ipykernel_6500\\71755803.py:48: FutureWarning: The behavior of DataFrame concatenation with empty or all-NA entries is deprecated. In a future version, this will no longer exclude empty or all-NA columns when determining the result dtypes. To retain the old behavior, exclude the relevant entries before the concat operation.\n",
      "  final_df = pd.concat(all_data, ignore_index=True)\n",
      "C:\\Users\\pasqu\\AppData\\Local\\Temp\\ipykernel_6500\\71755803.py:48: FutureWarning: The behavior of DataFrame concatenation with empty or all-NA entries is deprecated. In a future version, this will no longer exclude empty or all-NA columns when determining the result dtypes. To retain the old behavior, exclude the relevant entries before the concat operation.\n",
      "  final_df = pd.concat(all_data, ignore_index=True)\n",
      "C:\\Users\\pasqu\\AppData\\Local\\Temp\\ipykernel_6500\\71755803.py:48: FutureWarning: The behavior of DataFrame concatenation with empty or all-NA entries is deprecated. In a future version, this will no longer exclude empty or all-NA columns when determining the result dtypes. To retain the old behavior, exclude the relevant entries before the concat operation.\n",
      "  final_df = pd.concat(all_data, ignore_index=True)\n",
      "C:\\Users\\pasqu\\AppData\\Local\\Temp\\ipykernel_6500\\71755803.py:34: FutureWarning: The behavior of DataFrame concatenation with empty or all-NA entries is deprecated. In a future version, this will no longer exclude empty or all-NA columns when determining the result dtypes. To retain the old behavior, exclude the relevant entries before the concat operation.\n",
      "  final_df = pd.concat(all_data, ignore_index=True)\n"
     ]
    },
    {
     "name": "stdout",
     "output_type": "stream",
     "text": [
      "Processati 4724 utenti su 125602\n"
     ]
    },
    {
     "name": "stderr",
     "output_type": "stream",
     "text": [
      "C:\\Users\\pasqu\\AppData\\Local\\Temp\\ipykernel_6500\\71755803.py:48: FutureWarning: The behavior of DataFrame concatenation with empty or all-NA entries is deprecated. In a future version, this will no longer exclude empty or all-NA columns when determining the result dtypes. To retain the old behavior, exclude the relevant entries before the concat operation.\n",
      "  final_df = pd.concat(all_data, ignore_index=True)\n",
      "C:\\Users\\pasqu\\AppData\\Local\\Temp\\ipykernel_6500\\71755803.py:48: FutureWarning: The behavior of DataFrame concatenation with empty or all-NA entries is deprecated. In a future version, this will no longer exclude empty or all-NA columns when determining the result dtypes. To retain the old behavior, exclude the relevant entries before the concat operation.\n",
      "  final_df = pd.concat(all_data, ignore_index=True)\n",
      "C:\\Users\\pasqu\\AppData\\Local\\Temp\\ipykernel_6500\\71755803.py:34: FutureWarning: The behavior of DataFrame concatenation with empty or all-NA entries is deprecated. In a future version, this will no longer exclude empty or all-NA columns when determining the result dtypes. To retain the old behavior, exclude the relevant entries before the concat operation.\n",
      "  final_df = pd.concat(all_data, ignore_index=True)\n"
     ]
    },
    {
     "name": "stdout",
     "output_type": "stream",
     "text": [
      "Processati 4745 utenti su 125602\n"
     ]
    },
    {
     "name": "stderr",
     "output_type": "stream",
     "text": [
      "C:\\Users\\pasqu\\AppData\\Local\\Temp\\ipykernel_6500\\71755803.py:48: FutureWarning: The behavior of DataFrame concatenation with empty or all-NA entries is deprecated. In a future version, this will no longer exclude empty or all-NA columns when determining the result dtypes. To retain the old behavior, exclude the relevant entries before the concat operation.\n",
      "  final_df = pd.concat(all_data, ignore_index=True)\n",
      "C:\\Users\\pasqu\\AppData\\Local\\Temp\\ipykernel_6500\\71755803.py:48: FutureWarning: The behavior of DataFrame concatenation with empty or all-NA entries is deprecated. In a future version, this will no longer exclude empty or all-NA columns when determining the result dtypes. To retain the old behavior, exclude the relevant entries before the concat operation.\n",
      "  final_df = pd.concat(all_data, ignore_index=True)\n",
      "C:\\Users\\pasqu\\AppData\\Local\\Temp\\ipykernel_6500\\71755803.py:48: FutureWarning: The behavior of DataFrame concatenation with empty or all-NA entries is deprecated. In a future version, this will no longer exclude empty or all-NA columns when determining the result dtypes. To retain the old behavior, exclude the relevant entries before the concat operation.\n",
      "  final_df = pd.concat(all_data, ignore_index=True)\n",
      "C:\\Users\\pasqu\\AppData\\Local\\Temp\\ipykernel_6500\\71755803.py:48: FutureWarning: The behavior of DataFrame concatenation with empty or all-NA entries is deprecated. In a future version, this will no longer exclude empty or all-NA columns when determining the result dtypes. To retain the old behavior, exclude the relevant entries before the concat operation.\n",
      "  final_df = pd.concat(all_data, ignore_index=True)\n",
      "C:\\Users\\pasqu\\AppData\\Local\\Temp\\ipykernel_6500\\71755803.py:48: FutureWarning: The behavior of DataFrame concatenation with empty or all-NA entries is deprecated. In a future version, this will no longer exclude empty or all-NA columns when determining the result dtypes. To retain the old behavior, exclude the relevant entries before the concat operation.\n",
      "  final_df = pd.concat(all_data, ignore_index=True)\n",
      "C:\\Users\\pasqu\\AppData\\Local\\Temp\\ipykernel_6500\\71755803.py:48: FutureWarning: The behavior of DataFrame concatenation with empty or all-NA entries is deprecated. In a future version, this will no longer exclude empty or all-NA columns when determining the result dtypes. To retain the old behavior, exclude the relevant entries before the concat operation.\n",
      "  final_df = pd.concat(all_data, ignore_index=True)\n",
      "C:\\Users\\pasqu\\AppData\\Local\\Temp\\ipykernel_6500\\71755803.py:48: FutureWarning: The behavior of DataFrame concatenation with empty or all-NA entries is deprecated. In a future version, this will no longer exclude empty or all-NA columns when determining the result dtypes. To retain the old behavior, exclude the relevant entries before the concat operation.\n",
      "  final_df = pd.concat(all_data, ignore_index=True)\n",
      "C:\\Users\\pasqu\\AppData\\Local\\Temp\\ipykernel_6500\\71755803.py:34: FutureWarning: The behavior of DataFrame concatenation with empty or all-NA entries is deprecated. In a future version, this will no longer exclude empty or all-NA columns when determining the result dtypes. To retain the old behavior, exclude the relevant entries before the concat operation.\n",
      "  final_df = pd.concat(all_data, ignore_index=True)\n"
     ]
    },
    {
     "name": "stdout",
     "output_type": "stream",
     "text": [
      "Processati 4766 utenti su 125602\n"
     ]
    },
    {
     "name": "stderr",
     "output_type": "stream",
     "text": [
      "C:\\Users\\pasqu\\AppData\\Local\\Temp\\ipykernel_6500\\71755803.py:48: FutureWarning: The behavior of DataFrame concatenation with empty or all-NA entries is deprecated. In a future version, this will no longer exclude empty or all-NA columns when determining the result dtypes. To retain the old behavior, exclude the relevant entries before the concat operation.\n",
      "  final_df = pd.concat(all_data, ignore_index=True)\n",
      "C:\\Users\\pasqu\\AppData\\Local\\Temp\\ipykernel_6500\\71755803.py:48: FutureWarning: The behavior of DataFrame concatenation with empty or all-NA entries is deprecated. In a future version, this will no longer exclude empty or all-NA columns when determining the result dtypes. To retain the old behavior, exclude the relevant entries before the concat operation.\n",
      "  final_df = pd.concat(all_data, ignore_index=True)\n",
      "C:\\Users\\pasqu\\AppData\\Local\\Temp\\ipykernel_6500\\71755803.py:48: FutureWarning: The behavior of DataFrame concatenation with empty or all-NA entries is deprecated. In a future version, this will no longer exclude empty or all-NA columns when determining the result dtypes. To retain the old behavior, exclude the relevant entries before the concat operation.\n",
      "  final_df = pd.concat(all_data, ignore_index=True)\n",
      "C:\\Users\\pasqu\\AppData\\Local\\Temp\\ipykernel_6500\\71755803.py:48: FutureWarning: The behavior of DataFrame concatenation with empty or all-NA entries is deprecated. In a future version, this will no longer exclude empty or all-NA columns when determining the result dtypes. To retain the old behavior, exclude the relevant entries before the concat operation.\n",
      "  final_df = pd.concat(all_data, ignore_index=True)\n",
      "C:\\Users\\pasqu\\AppData\\Local\\Temp\\ipykernel_6500\\71755803.py:48: FutureWarning: The behavior of DataFrame concatenation with empty or all-NA entries is deprecated. In a future version, this will no longer exclude empty or all-NA columns when determining the result dtypes. To retain the old behavior, exclude the relevant entries before the concat operation.\n",
      "  final_df = pd.concat(all_data, ignore_index=True)\n",
      "C:\\Users\\pasqu\\AppData\\Local\\Temp\\ipykernel_6500\\71755803.py:48: FutureWarning: The behavior of DataFrame concatenation with empty or all-NA entries is deprecated. In a future version, this will no longer exclude empty or all-NA columns when determining the result dtypes. To retain the old behavior, exclude the relevant entries before the concat operation.\n",
      "  final_df = pd.concat(all_data, ignore_index=True)\n",
      "C:\\Users\\pasqu\\AppData\\Local\\Temp\\ipykernel_6500\\71755803.py:48: FutureWarning: The behavior of DataFrame concatenation with empty or all-NA entries is deprecated. In a future version, this will no longer exclude empty or all-NA columns when determining the result dtypes. To retain the old behavior, exclude the relevant entries before the concat operation.\n",
      "  final_df = pd.concat(all_data, ignore_index=True)\n",
      "C:\\Users\\pasqu\\AppData\\Local\\Temp\\ipykernel_6500\\71755803.py:34: FutureWarning: The behavior of DataFrame concatenation with empty or all-NA entries is deprecated. In a future version, this will no longer exclude empty or all-NA columns when determining the result dtypes. To retain the old behavior, exclude the relevant entries before the concat operation.\n",
      "  final_df = pd.concat(all_data, ignore_index=True)\n"
     ]
    },
    {
     "name": "stdout",
     "output_type": "stream",
     "text": [
      "Processati 4787 utenti su 125602\n"
     ]
    },
    {
     "name": "stderr",
     "output_type": "stream",
     "text": [
      "C:\\Users\\pasqu\\AppData\\Local\\Temp\\ipykernel_6500\\71755803.py:48: FutureWarning: The behavior of DataFrame concatenation with empty or all-NA entries is deprecated. In a future version, this will no longer exclude empty or all-NA columns when determining the result dtypes. To retain the old behavior, exclude the relevant entries before the concat operation.\n",
      "  final_df = pd.concat(all_data, ignore_index=True)\n",
      "C:\\Users\\pasqu\\AppData\\Local\\Temp\\ipykernel_6500\\71755803.py:48: FutureWarning: The behavior of DataFrame concatenation with empty or all-NA entries is deprecated. In a future version, this will no longer exclude empty or all-NA columns when determining the result dtypes. To retain the old behavior, exclude the relevant entries before the concat operation.\n",
      "  final_df = pd.concat(all_data, ignore_index=True)\n",
      "C:\\Users\\pasqu\\AppData\\Local\\Temp\\ipykernel_6500\\71755803.py:48: FutureWarning: The behavior of DataFrame concatenation with empty or all-NA entries is deprecated. In a future version, this will no longer exclude empty or all-NA columns when determining the result dtypes. To retain the old behavior, exclude the relevant entries before the concat operation.\n",
      "  final_df = pd.concat(all_data, ignore_index=True)\n",
      "C:\\Users\\pasqu\\AppData\\Local\\Temp\\ipykernel_6500\\71755803.py:48: FutureWarning: The behavior of DataFrame concatenation with empty or all-NA entries is deprecated. In a future version, this will no longer exclude empty or all-NA columns when determining the result dtypes. To retain the old behavior, exclude the relevant entries before the concat operation.\n",
      "  final_df = pd.concat(all_data, ignore_index=True)\n",
      "C:\\Users\\pasqu\\AppData\\Local\\Temp\\ipykernel_6500\\71755803.py:48: FutureWarning: The behavior of DataFrame concatenation with empty or all-NA entries is deprecated. In a future version, this will no longer exclude empty or all-NA columns when determining the result dtypes. To retain the old behavior, exclude the relevant entries before the concat operation.\n",
      "  final_df = pd.concat(all_data, ignore_index=True)\n",
      "C:\\Users\\pasqu\\AppData\\Local\\Temp\\ipykernel_6500\\71755803.py:34: FutureWarning: The behavior of DataFrame concatenation with empty or all-NA entries is deprecated. In a future version, this will no longer exclude empty or all-NA columns when determining the result dtypes. To retain the old behavior, exclude the relevant entries before the concat operation.\n",
      "  final_df = pd.concat(all_data, ignore_index=True)\n"
     ]
    },
    {
     "name": "stdout",
     "output_type": "stream",
     "text": [
      "Processati 4808 utenti su 125602\n"
     ]
    },
    {
     "name": "stderr",
     "output_type": "stream",
     "text": [
      "C:\\Users\\pasqu\\AppData\\Local\\Temp\\ipykernel_6500\\71755803.py:48: FutureWarning: The behavior of DataFrame concatenation with empty or all-NA entries is deprecated. In a future version, this will no longer exclude empty or all-NA columns when determining the result dtypes. To retain the old behavior, exclude the relevant entries before the concat operation.\n",
      "  final_df = pd.concat(all_data, ignore_index=True)\n",
      "C:\\Users\\pasqu\\AppData\\Local\\Temp\\ipykernel_6500\\71755803.py:48: FutureWarning: The behavior of DataFrame concatenation with empty or all-NA entries is deprecated. In a future version, this will no longer exclude empty or all-NA columns when determining the result dtypes. To retain the old behavior, exclude the relevant entries before the concat operation.\n",
      "  final_df = pd.concat(all_data, ignore_index=True)\n",
      "C:\\Users\\pasqu\\AppData\\Local\\Temp\\ipykernel_6500\\71755803.py:48: FutureWarning: The behavior of DataFrame concatenation with empty or all-NA entries is deprecated. In a future version, this will no longer exclude empty or all-NA columns when determining the result dtypes. To retain the old behavior, exclude the relevant entries before the concat operation.\n",
      "  final_df = pd.concat(all_data, ignore_index=True)\n",
      "C:\\Users\\pasqu\\AppData\\Local\\Temp\\ipykernel_6500\\71755803.py:48: FutureWarning: The behavior of DataFrame concatenation with empty or all-NA entries is deprecated. In a future version, this will no longer exclude empty or all-NA columns when determining the result dtypes. To retain the old behavior, exclude the relevant entries before the concat operation.\n",
      "  final_df = pd.concat(all_data, ignore_index=True)\n",
      "C:\\Users\\pasqu\\AppData\\Local\\Temp\\ipykernel_6500\\71755803.py:34: FutureWarning: The behavior of DataFrame concatenation with empty or all-NA entries is deprecated. In a future version, this will no longer exclude empty or all-NA columns when determining the result dtypes. To retain the old behavior, exclude the relevant entries before the concat operation.\n",
      "  final_df = pd.concat(all_data, ignore_index=True)\n"
     ]
    },
    {
     "name": "stdout",
     "output_type": "stream",
     "text": [
      "Processati 4829 utenti su 125602\n"
     ]
    },
    {
     "name": "stderr",
     "output_type": "stream",
     "text": [
      "C:\\Users\\pasqu\\AppData\\Local\\Temp\\ipykernel_6500\\71755803.py:48: FutureWarning: The behavior of DataFrame concatenation with empty or all-NA entries is deprecated. In a future version, this will no longer exclude empty or all-NA columns when determining the result dtypes. To retain the old behavior, exclude the relevant entries before the concat operation.\n",
      "  final_df = pd.concat(all_data, ignore_index=True)\n",
      "C:\\Users\\pasqu\\AppData\\Local\\Temp\\ipykernel_6500\\71755803.py:48: FutureWarning: The behavior of DataFrame concatenation with empty or all-NA entries is deprecated. In a future version, this will no longer exclude empty or all-NA columns when determining the result dtypes. To retain the old behavior, exclude the relevant entries before the concat operation.\n",
      "  final_df = pd.concat(all_data, ignore_index=True)\n",
      "C:\\Users\\pasqu\\AppData\\Local\\Temp\\ipykernel_6500\\71755803.py:48: FutureWarning: The behavior of DataFrame concatenation with empty or all-NA entries is deprecated. In a future version, this will no longer exclude empty or all-NA columns when determining the result dtypes. To retain the old behavior, exclude the relevant entries before the concat operation.\n",
      "  final_df = pd.concat(all_data, ignore_index=True)\n",
      "C:\\Users\\pasqu\\AppData\\Local\\Temp\\ipykernel_6500\\71755803.py:48: FutureWarning: The behavior of DataFrame concatenation with empty or all-NA entries is deprecated. In a future version, this will no longer exclude empty or all-NA columns when determining the result dtypes. To retain the old behavior, exclude the relevant entries before the concat operation.\n",
      "  final_df = pd.concat(all_data, ignore_index=True)\n",
      "C:\\Users\\pasqu\\AppData\\Local\\Temp\\ipykernel_6500\\71755803.py:48: FutureWarning: The behavior of DataFrame concatenation with empty or all-NA entries is deprecated. In a future version, this will no longer exclude empty or all-NA columns when determining the result dtypes. To retain the old behavior, exclude the relevant entries before the concat operation.\n",
      "  final_df = pd.concat(all_data, ignore_index=True)\n",
      "C:\\Users\\pasqu\\AppData\\Local\\Temp\\ipykernel_6500\\71755803.py:48: FutureWarning: The behavior of DataFrame concatenation with empty or all-NA entries is deprecated. In a future version, this will no longer exclude empty or all-NA columns when determining the result dtypes. To retain the old behavior, exclude the relevant entries before the concat operation.\n",
      "  final_df = pd.concat(all_data, ignore_index=True)\n",
      "C:\\Users\\pasqu\\AppData\\Local\\Temp\\ipykernel_6500\\71755803.py:48: FutureWarning: The behavior of DataFrame concatenation with empty or all-NA entries is deprecated. In a future version, this will no longer exclude empty or all-NA columns when determining the result dtypes. To retain the old behavior, exclude the relevant entries before the concat operation.\n",
      "  final_df = pd.concat(all_data, ignore_index=True)\n",
      "C:\\Users\\pasqu\\AppData\\Local\\Temp\\ipykernel_6500\\71755803.py:34: FutureWarning: The behavior of DataFrame concatenation with empty or all-NA entries is deprecated. In a future version, this will no longer exclude empty or all-NA columns when determining the result dtypes. To retain the old behavior, exclude the relevant entries before the concat operation.\n",
      "  final_df = pd.concat(all_data, ignore_index=True)\n"
     ]
    },
    {
     "name": "stdout",
     "output_type": "stream",
     "text": [
      "Processati 4850 utenti su 125602\n",
      "Processati 4871 utenti su 125602\n"
     ]
    },
    {
     "name": "stderr",
     "output_type": "stream",
     "text": [
      "C:\\Users\\pasqu\\AppData\\Local\\Temp\\ipykernel_6500\\71755803.py:48: FutureWarning: The behavior of DataFrame concatenation with empty or all-NA entries is deprecated. In a future version, this will no longer exclude empty or all-NA columns when determining the result dtypes. To retain the old behavior, exclude the relevant entries before the concat operation.\n",
      "  final_df = pd.concat(all_data, ignore_index=True)\n",
      "C:\\Users\\pasqu\\AppData\\Local\\Temp\\ipykernel_6500\\71755803.py:48: FutureWarning: The behavior of DataFrame concatenation with empty or all-NA entries is deprecated. In a future version, this will no longer exclude empty or all-NA columns when determining the result dtypes. To retain the old behavior, exclude the relevant entries before the concat operation.\n",
      "  final_df = pd.concat(all_data, ignore_index=True)\n",
      "C:\\Users\\pasqu\\AppData\\Local\\Temp\\ipykernel_6500\\71755803.py:48: FutureWarning: The behavior of DataFrame concatenation with empty or all-NA entries is deprecated. In a future version, this will no longer exclude empty or all-NA columns when determining the result dtypes. To retain the old behavior, exclude the relevant entries before the concat operation.\n",
      "  final_df = pd.concat(all_data, ignore_index=True)\n"
     ]
    }
   ],
   "source": [
    "import threading\n",
    "import pandas as pd\n",
    "from queue import Queue\n",
    "\n",
    "unique_users = unique_user \n",
    "\n",
    "def process_user(user, queue):\n",
    "    posts = get_all_post(user)\n",
    "    queue.put(pd.DataFrame(posts))\n",
    "\n",
    "def main():\n",
    "    queue = Queue()\n",
    "    i = len(processed_users)\n",
    "    threads = []\n",
    "    all_data = []\n",
    "    \n",
    "    for user in unique_users:\n",
    "        if user not in processed_users:\n",
    "            i += 1\n",
    "            thread = threading.Thread(target=process_user, args=(user, queue))\n",
    "            threads.append(thread)\n",
    "            thread.start()\n",
    "            \n",
    "            # Quando raggiungiamo 10 thread, aspettiamo che finiscano\n",
    "            if len(threads) >= 20:\n",
    "                for t in threads:\n",
    "                    t.join()\n",
    "                threads = []\n",
    "                \n",
    "                while not queue.empty():\n",
    "                    all_data.append(queue.get())\n",
    "                \n",
    "                if all_data:\n",
    "                    final_df = pd.concat(all_data, ignore_index=True)\n",
    "                    save_to_csv(final_df, csv_file)\n",
    "                    all_data = []\n",
    "                \n",
    "                print(f\"Processati {i} utenti su {len(unique_users)}\")\n",
    "        # Attendere eventuali thread rimanenti\n",
    "        for t in threads:\n",
    "            t.join()\n",
    "        \n",
    "        while not queue.empty():\n",
    "            all_data.append(queue.get())\n",
    "        \n",
    "        if all_data:\n",
    "            final_df = pd.concat(all_data, ignore_index=True)\n",
    "            save_to_csv(final_df, csv_file)\n",
    "        \n",
    "    print(\"Processo completato!\")\n",
    "\n",
    "if __name__ == \"__main__\":\n",
    "    main()\n"
   ]
  },
  {
   "cell_type": "code",
   "execution_count": 9,
   "metadata": {},
   "outputs": [
    {
     "name": "stdout",
     "output_type": "stream",
     "text": [
      "(128495, 10)\n"
     ]
    },
    {
     "data": {
      "text/html": [
       "<div>\n",
       "<style scoped>\n",
       "    .dataframe tbody tr th:only-of-type {\n",
       "        vertical-align: middle;\n",
       "    }\n",
       "\n",
       "    .dataframe tbody tr th {\n",
       "        vertical-align: top;\n",
       "    }\n",
       "\n",
       "    .dataframe thead th {\n",
       "        text-align: right;\n",
       "    }\n",
       "</style>\n",
       "<table border=\"1\" class=\"dataframe\">\n",
       "  <thead>\n",
       "    <tr style=\"text-align: right;\">\n",
       "      <th></th>\n",
       "      <th>id</th>\n",
       "      <th>post_pk</th>\n",
       "      <th>caption_text</th>\n",
       "      <th>like_count</th>\n",
       "      <th>taken_at</th>\n",
       "      <th>username</th>\n",
       "      <th>user_pk</th>\n",
       "      <th>quote_count</th>\n",
       "      <th>repost_count</th>\n",
       "      <th>reshare_count</th>\n",
       "    </tr>\n",
       "  </thead>\n",
       "  <tbody>\n",
       "    <tr>\n",
       "      <th>0</th>\n",
       "      <td>3557970465522674878_187264532</td>\n",
       "      <td>3557970465522674878</td>\n",
       "      <td>A little over 24 hours left to vote.\\n\\nhttps:...</td>\n",
       "      <td>0</td>\n",
       "      <td>1738363153</td>\n",
       "      <td>mlssfshn</td>\n",
       "      <td>187264532</td>\n",
       "      <td>0.0</td>\n",
       "      <td>0.0</td>\n",
       "      <td>NaN</td>\n",
       "    </tr>\n",
       "    <tr>\n",
       "      <th>1</th>\n",
       "      <td>3557782854629238181_187264532</td>\n",
       "      <td>3557782854629238181</td>\n",
       "      <td>Galaxy Quest \\nLots of cutting holes, playing ...</td>\n",
       "      <td>1</td>\n",
       "      <td>1738340790</td>\n",
       "      <td>mlssfshn</td>\n",
       "      <td>187264532</td>\n",
       "      <td>0.0</td>\n",
       "      <td>0.0</td>\n",
       "      <td>NaN</td>\n",
       "    </tr>\n",
       "    <tr>\n",
       "      <th>2</th>\n",
       "      <td>3557776470965660229_187264532</td>\n",
       "      <td>3557776470965660229</td>\n",
       "      <td>Black Hole Sun\\nOver 5 pounds of cornhusk in m...</td>\n",
       "      <td>0</td>\n",
       "      <td>1738340029</td>\n",
       "      <td>mlssfshn</td>\n",
       "      <td>187264532</td>\n",
       "      <td>0.0</td>\n",
       "      <td>0.0</td>\n",
       "      <td>NaN</td>\n",
       "    </tr>\n",
       "    <tr>\n",
       "      <th>3</th>\n",
       "      <td>3556000079513982405_187264532</td>\n",
       "      <td>3556000079513982405</td>\n",
       "      <td>Over due to post videos of my work for @salina...</td>\n",
       "      <td>0</td>\n",
       "      <td>1738128266</td>\n",
       "      <td>mlssfshn</td>\n",
       "      <td>187264532</td>\n",
       "      <td>0.0</td>\n",
       "      <td>0.0</td>\n",
       "      <td>NaN</td>\n",
       "    </tr>\n",
       "    <tr>\n",
       "      <th>4</th>\n",
       "      <td>3555273435077793954_187264532</td>\n",
       "      <td>3555273435077793954</td>\n",
       "      <td>My son has a good point.\\nWhy are we calling m...</td>\n",
       "      <td>108</td>\n",
       "      <td>1738041642</td>\n",
       "      <td>mlssfshn</td>\n",
       "      <td>187264532</td>\n",
       "      <td>1.0</td>\n",
       "      <td>2.0</td>\n",
       "      <td>NaN</td>\n",
       "    </tr>\n",
       "    <tr>\n",
       "      <th>...</th>\n",
       "      <td>...</td>\n",
       "      <td>...</td>\n",
       "      <td>...</td>\n",
       "      <td>...</td>\n",
       "      <td>...</td>\n",
       "      <td>...</td>\n",
       "      <td>...</td>\n",
       "      <td>...</td>\n",
       "      <td>...</td>\n",
       "      <td>...</td>\n",
       "    </tr>\n",
       "    <tr>\n",
       "      <th>128490</th>\n",
       "      <td>3391930657277617664_1325688550</td>\n",
       "      <td>3391930657277617664</td>\n",
       "      <td>Happy Fathers Day to all the dads on here much...</td>\n",
       "      <td>0</td>\n",
       "      <td>1718569665</td>\n",
       "      <td>0ffwhite05</td>\n",
       "      <td>1325688550</td>\n",
       "      <td>0.0</td>\n",
       "      <td>0.0</td>\n",
       "      <td>NaN</td>\n",
       "    </tr>\n",
       "    <tr>\n",
       "      <th>128491</th>\n",
       "      <td>3366520930858185719_1325688550</td>\n",
       "      <td>3366520930858185719</td>\n",
       "      <td>Add The Sc VansOnMyFeet05 😜🤘🏻</td>\n",
       "      <td>0</td>\n",
       "      <td>1715540590</td>\n",
       "      <td>0ffwhite05</td>\n",
       "      <td>1325688550</td>\n",
       "      <td>0.0</td>\n",
       "      <td>0.0</td>\n",
       "      <td>NaN</td>\n",
       "    </tr>\n",
       "    <tr>\n",
       "      <th>128492</th>\n",
       "      <td>3366490197977515715_1325688550</td>\n",
       "      <td>3366490197977515715</td>\n",
       "      <td>Happy Mothers Day to all the moms on here!❤️🙂❤️</td>\n",
       "      <td>0</td>\n",
       "      <td>1715536926</td>\n",
       "      <td>0ffwhite05</td>\n",
       "      <td>1325688550</td>\n",
       "      <td>0.0</td>\n",
       "      <td>0.0</td>\n",
       "      <td>NaN</td>\n",
       "    </tr>\n",
       "    <tr>\n",
       "      <th>128493</th>\n",
       "      <td>3156609124150157370_1325688550</td>\n",
       "      <td>3156609124150157370</td>\n",
       "      <td>Sheeesh</td>\n",
       "      <td>0</td>\n",
       "      <td>1690517152</td>\n",
       "      <td>0ffwhite05</td>\n",
       "      <td>1325688550</td>\n",
       "      <td>0.0</td>\n",
       "      <td>0.0</td>\n",
       "      <td>NaN</td>\n",
       "    </tr>\n",
       "    <tr>\n",
       "      <th>128494</th>\n",
       "      <td>3144362369945863131_1325688550</td>\n",
       "      <td>3144362369945863131</td>\n",
       "      <td>Live your life 💯❤️💯</td>\n",
       "      <td>2</td>\n",
       "      <td>1689057225</td>\n",
       "      <td>0ffwhite05</td>\n",
       "      <td>1325688550</td>\n",
       "      <td>0.0</td>\n",
       "      <td>0.0</td>\n",
       "      <td>NaN</td>\n",
       "    </tr>\n",
       "  </tbody>\n",
       "</table>\n",
       "<p>128495 rows × 10 columns</p>\n",
       "</div>"
      ],
      "text/plain": [
       "                                    id              post_pk  \\\n",
       "0        3557970465522674878_187264532  3557970465522674878   \n",
       "1        3557782854629238181_187264532  3557782854629238181   \n",
       "2        3557776470965660229_187264532  3557776470965660229   \n",
       "3        3556000079513982405_187264532  3556000079513982405   \n",
       "4        3555273435077793954_187264532  3555273435077793954   \n",
       "...                                ...                  ...   \n",
       "128490  3391930657277617664_1325688550  3391930657277617664   \n",
       "128491  3366520930858185719_1325688550  3366520930858185719   \n",
       "128492  3366490197977515715_1325688550  3366490197977515715   \n",
       "128493  3156609124150157370_1325688550  3156609124150157370   \n",
       "128494  3144362369945863131_1325688550  3144362369945863131   \n",
       "\n",
       "                                             caption_text  like_count  \\\n",
       "0       A little over 24 hours left to vote.\\n\\nhttps:...           0   \n",
       "1       Galaxy Quest \\nLots of cutting holes, playing ...           1   \n",
       "2       Black Hole Sun\\nOver 5 pounds of cornhusk in m...           0   \n",
       "3       Over due to post videos of my work for @salina...           0   \n",
       "4       My son has a good point.\\nWhy are we calling m...         108   \n",
       "...                                                   ...         ...   \n",
       "128490  Happy Fathers Day to all the dads on here much...           0   \n",
       "128491                      Add The Sc VansOnMyFeet05 😜🤘🏻           0   \n",
       "128492    Happy Mothers Day to all the moms on here!❤️🙂❤️           0   \n",
       "128493                                            Sheeesh           0   \n",
       "128494                                Live your life 💯❤️💯           2   \n",
       "\n",
       "          taken_at    username     user_pk  quote_count  repost_count  \\\n",
       "0       1738363153    mlssfshn   187264532          0.0           0.0   \n",
       "1       1738340790    mlssfshn   187264532          0.0           0.0   \n",
       "2       1738340029    mlssfshn   187264532          0.0           0.0   \n",
       "3       1738128266    mlssfshn   187264532          0.0           0.0   \n",
       "4       1738041642    mlssfshn   187264532          1.0           2.0   \n",
       "...            ...         ...         ...          ...           ...   \n",
       "128490  1718569665  0ffwhite05  1325688550          0.0           0.0   \n",
       "128491  1715540590  0ffwhite05  1325688550          0.0           0.0   \n",
       "128492  1715536926  0ffwhite05  1325688550          0.0           0.0   \n",
       "128493  1690517152  0ffwhite05  1325688550          0.0           0.0   \n",
       "128494  1689057225  0ffwhite05  1325688550          0.0           0.0   \n",
       "\n",
       "        reshare_count  \n",
       "0                 NaN  \n",
       "1                 NaN  \n",
       "2                 NaN  \n",
       "3                 NaN  \n",
       "4                 NaN  \n",
       "...               ...  \n",
       "128490            NaN  \n",
       "128491            NaN  \n",
       "128492            NaN  \n",
       "128493            NaN  \n",
       "128494            NaN  \n",
       "\n",
       "[128495 rows x 10 columns]"
      ]
     },
     "execution_count": 9,
     "metadata": {},
     "output_type": "execute_result"
    }
   ],
   "source": [
    "df1 = pd.read_csv(\"post_data.csv\")\n",
    "print(df1.shape)\n",
    "df1"
   ]
  }
 ],
 "metadata": {
  "kernelspec": {
   "display_name": ".venv",
   "language": "python",
   "name": "python3"
  },
  "language_info": {
   "codemirror_mode": {
    "name": "ipython",
    "version": 3
   },
   "file_extension": ".py",
   "mimetype": "text/x-python",
   "name": "python",
   "nbconvert_exporter": "python",
   "pygments_lexer": "ipython3",
   "version": "3.12.7"
  }
 },
 "nbformat": 4,
 "nbformat_minor": 2
}
