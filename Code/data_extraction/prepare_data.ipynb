{
 "cells": [
  {
   "cell_type": "code",
   "execution_count": 69,
   "metadata": {},
   "outputs": [],
   "source": [
    "import pandas as pd"
   ]
  },
  {
   "cell_type": "code",
   "execution_count": 70,
   "metadata": {},
   "outputs": [],
   "source": [
    "df1 = pd.read_csv(\"followers_data.csv\")\n",
    "df2 = pd.read_csv(\"followers_data2.csv\")\n",
    "df3 = pd.read_csv(\"followers_data3.csv\")"
   ]
  },
  {
   "cell_type": "code",
   "execution_count": 71,
   "metadata": {},
   "outputs": [
    {
     "name": "stdout",
     "output_type": "stream",
     "text": [
      "(523661, 4)\n",
      "(92146, 4)\n",
      "(157965, 4)\n"
     ]
    }
   ],
   "source": [
    "print(df1.shape)\n",
    "print(df2.shape)\n",
    "print(df3.shape)"
   ]
  },
  {
   "cell_type": "code",
   "execution_count": 72,
   "metadata": {},
   "outputs": [
    {
     "data": {
      "text/plain": [
       "(773772, 4)"
      ]
     },
     "execution_count": 72,
     "metadata": {},
     "output_type": "execute_result"
    }
   ],
   "source": [
    "df = pd.concat([df1,df2,df3])\n",
    "df.shape"
   ]
  },
  {
   "cell_type": "code",
   "execution_count": 73,
   "metadata": {},
   "outputs": [],
   "source": [
    "df.to_csv(\"followers_dataset_combined.csv\",index = False)"
   ]
  },
  {
   "cell_type": "code",
   "execution_count": 74,
   "metadata": {},
   "outputs": [
    {
     "data": {
      "text/plain": [
       "868"
      ]
     },
     "execution_count": 74,
     "metadata": {},
     "output_type": "execute_result"
    }
   ],
   "source": [
    "len(df[\"user_pk\"].unique())"
   ]
  },
  {
   "cell_type": "code",
   "execution_count": 75,
   "metadata": {},
   "outputs": [
    {
     "data": {
      "text/plain": [
       "247648"
      ]
     },
     "execution_count": 75,
     "metadata": {},
     "output_type": "execute_result"
    }
   ],
   "source": [
    "len(df[\"follower_pk\"].unique())\n",
    "246945+703"
   ]
  },
  {
   "cell_type": "code",
   "execution_count": 76,
   "metadata": {},
   "outputs": [
    {
     "data": {
      "text/html": [
       "<div>\n",
       "<style scoped>\n",
       "    .dataframe tbody tr th:only-of-type {\n",
       "        vertical-align: middle;\n",
       "    }\n",
       "\n",
       "    .dataframe tbody tr th {\n",
       "        vertical-align: top;\n",
       "    }\n",
       "\n",
       "    .dataframe thead th {\n",
       "        text-align: right;\n",
       "    }\n",
       "</style>\n",
       "<table border=\"1\" class=\"dataframe\">\n",
       "  <thead>\n",
       "    <tr style=\"text-align: right;\">\n",
       "      <th></th>\n",
       "      <th>user_pk</th>\n",
       "      <th>follower_pk</th>\n",
       "    </tr>\n",
       "  </thead>\n",
       "  <tbody>\n",
       "    <tr>\n",
       "      <th>0</th>\n",
       "      <td>70</td>\n",
       "      <td>[4715917418, 33306975, 4479468432, 1936730, 27...</td>\n",
       "    </tr>\n",
       "    <tr>\n",
       "      <th>1</th>\n",
       "      <td>5411</td>\n",
       "      <td>[1550385759, 3248237942, 72097668915, 71560881...</td>\n",
       "    </tr>\n",
       "    <tr>\n",
       "      <th>2</th>\n",
       "      <td>33762</td>\n",
       "      <td>[235665315, 435391039, 1456673022, 569134215, ...</td>\n",
       "    </tr>\n",
       "    <tr>\n",
       "      <th>3</th>\n",
       "      <td>95561</td>\n",
       "      <td>[64122522020, 15253570252, 33743726799, 677228...</td>\n",
       "    </tr>\n",
       "    <tr>\n",
       "      <th>4</th>\n",
       "      <td>129231</td>\n",
       "      <td>[57406223964, 2013665431, 454167773, 30744890,...</td>\n",
       "    </tr>\n",
       "    <tr>\n",
       "      <th>...</th>\n",
       "      <td>...</td>\n",
       "      <td>...</td>\n",
       "    </tr>\n",
       "    <tr>\n",
       "      <th>863</th>\n",
       "      <td>71561257313</td>\n",
       "      <td>[65475922468, 12097125205, 66305995586, 679883...</td>\n",
       "    </tr>\n",
       "    <tr>\n",
       "      <th>864</th>\n",
       "      <td>71641598176</td>\n",
       "      <td>[63567292208, 58640280467, 65414387420, 642775...</td>\n",
       "    </tr>\n",
       "    <tr>\n",
       "      <th>865</th>\n",
       "      <td>71646772581</td>\n",
       "      <td>[69051957934, 66162639077, 70196335754, 516281...</td>\n",
       "    </tr>\n",
       "    <tr>\n",
       "      <th>866</th>\n",
       "      <td>71856594851</td>\n",
       "      <td>[43651979310, 1637207028, 71323411964, 6659356...</td>\n",
       "    </tr>\n",
       "    <tr>\n",
       "      <th>867</th>\n",
       "      <td>72243336160</td>\n",
       "      <td>[68736502823, 6234762793, 1163644778, 57557633...</td>\n",
       "    </tr>\n",
       "  </tbody>\n",
       "</table>\n",
       "<p>868 rows × 2 columns</p>\n",
       "</div>"
      ],
      "text/plain": [
       "         user_pk                                        follower_pk\n",
       "0             70  [4715917418, 33306975, 4479468432, 1936730, 27...\n",
       "1           5411  [1550385759, 3248237942, 72097668915, 71560881...\n",
       "2          33762  [235665315, 435391039, 1456673022, 569134215, ...\n",
       "3          95561  [64122522020, 15253570252, 33743726799, 677228...\n",
       "4         129231  [57406223964, 2013665431, 454167773, 30744890,...\n",
       "..           ...                                                ...\n",
       "863  71561257313  [65475922468, 12097125205, 66305995586, 679883...\n",
       "864  71641598176  [63567292208, 58640280467, 65414387420, 642775...\n",
       "865  71646772581  [69051957934, 66162639077, 70196335754, 516281...\n",
       "866  71856594851  [43651979310, 1637207028, 71323411964, 6659356...\n",
       "867  72243336160  [68736502823, 6234762793, 1163644778, 57557633...\n",
       "\n",
       "[868 rows x 2 columns]"
      ]
     },
     "execution_count": 76,
     "metadata": {},
     "output_type": "execute_result"
    }
   ],
   "source": [
    "df.groupby(\"user_pk\")[\"follower_pk\"].apply(list).reset_index()"
   ]
  },
  {
   "cell_type": "code",
   "execution_count": 84,
   "metadata": {},
   "outputs": [],
   "source": [
    "\n",
    "import pandas as pd\n",
    "import networkx as nx\n",
    "import random\n",
    "\n",
    "class GraphConstructor:\n",
    "    def __init__(self, followers_path=\"../../data_extraction/followers_dataset_combined.csv\", data_path = \"../../data_extraction/data.csv\"):\n",
    "        self.df = pd.read_csv(followers_path, dtype={\"user_pk\": str,\"follower_pk\": str,\"follower_username\": str,\"follower_count\": int})\n",
    "        \n",
    "        self.data = pd.read_csv(data_path, dtype={\"pk\": str,\"user_pk\": str,\"caption\": str,\"like_count\": int,\"taken_at\": int})\n",
    "        self.graph = nx.DiGraph()\n",
    "\n",
    "    def build_graph(self):\n",
    "        followers_per_user = self.df.groupby(\"user_pk\")[\"follower_pk\"].apply(list).reset_index()\n",
    "        for _, (user_pk, listf) in followers_per_user.iterrows():\n",
    "            for follower_pk in listf:\n",
    "                self.graph.add_edge(follower_pk, user_pk)    \n",
    "        for node in self.graph.nodes():\n",
    "            self.graph.nodes[node][\"threshold\"] = random.uniform(0, 1)\n",
    "        \n",
    "        return self.graph\n"
   ]
  },
  {
   "cell_type": "code",
   "execution_count": 85,
   "metadata": {},
   "outputs": [
    {
     "name": "stdout",
     "output_type": "stream",
     "text": [
      "Numero di nodi del grafo: 278138\n",
      "Numero di archi del grafo: 308745\n"
     ]
    }
   ],
   "source": [
    "g = GraphConstructor(followers_path= \"followers_dataset_combined.csv\", data_path= \"data.csv\")\n",
    "g.build_graph()\n",
    "graph = g.graph\n",
    "print(f\"Numero di nodi del grafo: {len(graph.nodes)}\")\n",
    "print(f\"Numero di archi del grafo: {len(graph.edges)}\")"
   ]
  }
 ],
 "metadata": {
  "kernelspec": {
   "display_name": ".venv",
   "language": "python",
   "name": "python3"
  },
  "language_info": {
   "codemirror_mode": {
    "name": "ipython",
    "version": 3
   },
   "file_extension": ".py",
   "mimetype": "text/x-python",
   "name": "python",
   "nbconvert_exporter": "python",
   "pygments_lexer": "ipython3",
   "version": "3.12.7"
  }
 },
 "nbformat": 4,
 "nbformat_minor": 2
}
